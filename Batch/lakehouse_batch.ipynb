{
 "cells": [
  {
   "cell_type": "markdown",
   "metadata": {
    "application/vnd.databricks.v1+cell": {
     "cellMetadata": {
      "byteLimit": 2048000,
      "rowLimit": 10000
     },
     "inputWidgets": {},
     "nuid": "8cfcc2e4-3f5d-4ef6-be33-0eb0c52697b1",
     "showTitle": false,
     "tableResultSettingsMap": {},
     "title": ""
    }
   },
   "source": [
    "#Bước 1: Mount Azure Data Lake Storage vào Databricks"
   ]
  },
  {
   "cell_type": "markdown",
   "metadata": {
    "application/vnd.databricks.v1+cell": {
     "cellMetadata": {
      "byteLimit": 2048000,
      "rowLimit": 10000
     },
     "inputWidgets": {},
     "nuid": "85635fb9-0847-4da0-9c13-761d453c8f9f",
     "showTitle": false,
     "tableResultSettingsMap": {},
     "title": ""
    }
   },
   "source": [
    "## Bronze Layer"
   ]
  },
  {
   "cell_type": "code",
   "execution_count": 0,
   "metadata": {
    "application/vnd.databricks.v1+cell": {
     "cellMetadata": {
      "byteLimit": 2048000,
      "rowLimit": 10000
     },
     "inputWidgets": {},
     "nuid": "c34af23a-aa7e-4f35-8262-7e6d71fd0717",
     "showTitle": false,
     "tableResultSettingsMap": {},
     "title": ""
    }
   },
   "outputs": [],
   "source": [
    "\n",
    "dbutils.fs.mount(\n",
    "    source=\"wasbs://bronze@hoangtien22133061.blob.core.windows.net\",\n",
    "    mount_point=\"/mnt/lakehouse/bronze\",\n",
    "    extra_configs={\n",
    "        \"fs.azure.account.key.hoangtien22133061.blob.core.windows.net\": storage_account_key\n",
    "    },\n",
    ")"
   ]
  },
  {
   "cell_type": "markdown",
   "metadata": {
    "application/vnd.databricks.v1+cell": {
     "cellMetadata": {
      "byteLimit": 2048000,
      "rowLimit": 10000
     },
     "inputWidgets": {},
     "nuid": "e3c5c04f-7dd8-482b-bb60-1667c5ffe649",
     "showTitle": false,
     "tableResultSettingsMap": {},
     "title": ""
    }
   },
   "source": [
    "## Silver Layer"
   ]
  },
  {
   "cell_type": "code",
   "execution_count": 0,
   "metadata": {
    "application/vnd.databricks.v1+cell": {
     "cellMetadata": {
      "byteLimit": 2048000,
      "rowLimit": 10000
     },
     "inputWidgets": {},
     "nuid": "4bf96b41-8e35-4966-a8d4-33e40936cfa6",
     "showTitle": false,
     "tableResultSettingsMap": {},
     "title": ""
    }
   },
   "outputs": [],
   "source": [
    "\n",
    "dbutils.fs.mount(\n",
    "    source=\"wasbs://silver@hoangtien22133061.blob.core.windows.net\",\n",
    "    mount_point=\"/mnt/lakehouse/silver\",\n",
    "    extra_configs={\n",
    "        \"fs.azure.account.key.hoangtien22133061.blob.core.windows.net\": storage_account_key\n",
    "    },\n",
    ")"
   ]
  },
  {
   "cell_type": "markdown",
   "metadata": {
    "application/vnd.databricks.v1+cell": {
     "cellMetadata": {
      "byteLimit": 2048000,
      "rowLimit": 10000
     },
     "inputWidgets": {},
     "nuid": "ce97d801-26a4-4e01-8025-0ff5d6e8eff0",
     "showTitle": false,
     "tableResultSettingsMap": {},
     "title": ""
    }
   },
   "source": [
    "## Gold Layer"
   ]
  },
  {
   "cell_type": "code",
   "execution_count": 0,
   "metadata": {
    "application/vnd.databricks.v1+cell": {
     "cellMetadata": {
      "byteLimit": 2048000,
      "rowLimit": 10000
     },
     "inputWidgets": {},
     "nuid": "9de98d86-59ef-432e-9ffd-d93f6d58e4ae",
     "showTitle": false,
     "tableResultSettingsMap": {},
     "title": ""
    }
   },
   "outputs": [],
   "source": [
    "\n",
    "dbutils.fs.mount(\n",
    "    source=\"wasbs://gold@hoangtien22133061.blob.core.windows.net\",\n",
    "    mount_point=\"/mnt/lakehouse/gold\",\n",
    "    extra_configs={\n",
    "        \"fs.azure.account.key.hoangtien22133061.blob.core.windows.net\": storage_account_key\n",
    "    },\n",
    ")"
   ]
  },
  {
   "cell_type": "markdown",
   "metadata": {
    "application/vnd.databricks.v1+cell": {
     "cellMetadata": {
      "byteLimit": 2048000,
      "rowLimit": 10000
     },
     "inputWidgets": {},
     "nuid": "a734eea1-f33e-4000-bf27-2de267af71c2",
     "showTitle": false,
     "tableResultSettingsMap": {},
     "title": ""
    }
   },
   "source": [
    "#Bước 2: Đọc dữ liệu từ Bronze (raw layer)"
   ]
  },
  {
   "cell_type": "code",
   "execution_count": 0,
   "metadata": {
    "application/vnd.databricks.v1+cell": {
     "cellMetadata": {
      "byteLimit": 2048000,
      "rowLimit": 10000
     },
     "inputWidgets": {},
     "nuid": "e523bb46-d1ec-4054-89aa-bb9004fdd845",
     "showTitle": false,
     "tableResultSettingsMap": {},
     "title": ""
    }
   },
   "outputs": [],
   "source": [
    "display(dbutils.fs.ls(\"/mnt/lakehouse/bronze\"))"
   ]
  },
  {
   "cell_type": "code",
   "execution_count": 0,
   "metadata": {
    "application/vnd.databricks.v1+cell": {
     "cellMetadata": {
      "byteLimit": 2048000,
      "rowLimit": 10000
     },
     "inputWidgets": {},
     "nuid": "2cbb79f9-6917-4564-843f-e4957b500f8f",
     "showTitle": false,
     "tableResultSettingsMap": {},
     "title": ""
    }
   },
   "outputs": [],
   "source": [
    "bronze_path = \"dbfs:/mnt/lakehouse/bronze/\"\n",
    "# Đọc ví dụ cho từng bảng\n",
    "df_customers = spark.read.option(\"header\", \"true\").csv(\n",
    "    f\"{bronze_path}customers_dataset.csv\"\n",
    ")\n",
    "df_orders = spark.read.option(\"header\", \"true\").csv(f\"{bronze_path}orders_dataset.csv\")\n",
    "df_order_items = spark.read.option(\"header\", \"true\").csv(\n",
    "    f\"{bronze_path}order_items_dataset.csv\"\n",
    ")\n",
    "df_products = spark.read.option(\"header\", \"true\").csv(\n",
    "    f\"{bronze_path}products_dataset.csv\"\n",
    ")\n",
    "df_sellers = spark.read.option(\"header\", \"true\").csv(\n",
    "    f\"{bronze_path}sellers_dataset.csv\"\n",
    ")\n",
    "df_payments = spark.read.option(\"header\", \"true\").csv(\n",
    "    f\"{bronze_path}order_payments_dataset.csv\"\n",
    ")\n",
    "df_reviews = (\n",
    "    spark.read.option(\"header\", True)\n",
    "    .option(\"inferSchema\", True)\n",
    "    .option(\"quote\", '\"')\n",
    "    .option(\"escape\", '\"')\n",
    "    .option(\"multiLine\", True)\n",
    "    .csv(f\"{bronze_path}order_reviews_dataset.csv\")\n",
    ")\n",
    "df_geolocation = spark.read.option(\"header\", \"true\").csv(\n",
    "    f\"{bronze_path}geolocation_dataset.csv\"\n",
    ")\n",
    "df_cat_trans = spark.read.option(\"header\", \"true\").csv(\n",
    "    f\"{bronze_path}product_category_name_translation.csv\"\n",
    ")\n",
    "df_date =  spark.read.option(\"header\", \"true\").csv(\n",
    "    f\"{bronze_path}date.csv\"\n",
    ")\n",
    "df_date = df_date.drop(\"_c24\")\n",
    "\n",
    "\n"
   ]
  },
  {
   "cell_type": "code",
   "execution_count": 0,
   "metadata": {
    "application/vnd.databricks.v1+cell": {
     "cellMetadata": {
      "byteLimit": 2048000,
      "rowLimit": 10000
     },
     "inputWidgets": {},
     "nuid": "bcf74aab-6d36-45c6-b5be-8343495432fd",
     "showTitle": false,
     "tableResultSettingsMap": {},
     "title": ""
    }
   },
   "outputs": [],
   "source": [
    "display(df_date.limit(2))"
   ]
  },
  {
   "cell_type": "markdown",
   "metadata": {
    "application/vnd.databricks.v1+cell": {
     "cellMetadata": {
      "byteLimit": 2048000,
      "rowLimit": 10000
     },
     "inputWidgets": {},
     "nuid": "71bf40e0-57c6-4602-848b-4a74c9bdd1c4",
     "showTitle": false,
     "tableResultSettingsMap": {},
     "title": ""
    }
   },
   "source": [
    "# Bước 3: Làm sạch & xử lý dữ liệu"
   ]
  },
  {
   "cell_type": "code",
   "execution_count": 0,
   "metadata": {
    "application/vnd.databricks.v1+cell": {
     "cellMetadata": {
      "byteLimit": 2048000,
      "rowLimit": 10000
     },
     "inputWidgets": {},
     "nuid": "b2be7199-9d74-4682-a0e5-4c572a5683b2",
     "showTitle": false,
     "tableResultSettingsMap": {},
     "title": ""
    }
   },
   "outputs": [],
   "source": [
    "from pyspark.sql.functions import col, when, count\n",
    "\n",
    "bronze_path = \"dbfs:/mnt/lakehouse/bronze/\"\n",
    "silver_path = \"dbfs:/mnt/lakehouse/silver/\"\n",
    "\n",
    "\n",
    "# Helper function to cast numeric columns\n",
    "def cast_numeric(df, numeric_cols):\n",
    "    for col_name in numeric_cols:\n",
    "        df = df.withColumn(col_name, col(col_name).cast(\"double\"))\n",
    "    return df\n",
    "\n",
    "\n",
    "def cast_numeric_int(df, numeric_cols):\n",
    "    for col_name in numeric_cols:\n",
    "        df = df.withColumn(col_name, col(col_name).cast(\"int\"))\n",
    "    return df\n",
    "\n",
    "\n",
    "def check_na_and_duplicates(df, name):\n",
    "    print(f\"\\n==== {name.upper()} ====\")\n",
    "    print(\"Null values per column:\")\n",
    "    df.select([count(when(col(c).isNull(), c)).alias(c) for c in df.columns]).show()\n",
    "    total = df.count()\n",
    "    distinct = df.dropDuplicates().count()\n",
    "    print(f\"Total rows: {total}, Duplicated rows: {total - distinct}\")\n",
    "\n",
    "\n",
    "# 1. Customers\n",
    "check_na_and_duplicates(df_customers, \"customers\")\n",
    "customers = df_customers.dropna(\n",
    "    subset=[\"customer_id\", \"customer_unique_id\"]\n",
    ").dropDuplicates([\"customer_id\"])\n",
    "\n",
    "# 2. Orders\n",
    "check_na_and_duplicates(df_orders, \"orders\")\n",
    "orders = df_orders.dropna(\n",
    "    subset=[\"order_id\", \"customer_id\", \"order_status\"]\n",
    ").dropDuplicates([\"order_id\"])\n",
    "\n",
    "# 3. Order Items\n",
    "check_na_and_duplicates(df_order_items, \"order_items\")\n",
    "order_items = cast_numeric(df_order_items, [\"price\", \"freight_value\"])\n",
    "order_items = order_items.dropna(subset=[\"order_id\", \"order_item_id\", \"product_id\"])\n",
    "\n",
    "# 4. Products\n",
    "check_na_and_duplicates(df_products, \"products\")\n",
    "products = cast_numeric_int(\n",
    "    df_products,\n",
    "    [\n",
    "        \"product_name_lenght\",\n",
    "        \"product_description_lenght\",\n",
    "        \"product_photos_qty\",\n",
    "        \"product_weight_g\",\n",
    "        \"product_length_cm\",\n",
    "        \"product_height_cm\",\n",
    "        \"product_width_cm\",\n",
    "    ],\n",
    ")\n",
    "products = products.dropna(subset=[\"product_id\"])\n",
    "\n",
    "# 5. Sellers\n",
    "check_na_and_duplicates(df_sellers, \"sellers\")\n",
    "sellers = df_sellers.dropna(subset=[\"seller_id\"])\n",
    "\n",
    "# 6. Order Payments\n",
    "check_na_and_duplicates(df_payments, \"order_payments\")\n",
    "order_payments = cast_numeric(df_payments, [\"payment_value\"])\n",
    "order_payments = cast_numeric_int(\n",
    "    order_payments, [\"payment_sequential\", \"payment_installments\"]\n",
    ")\n",
    "order_payments = order_payments.dropna(subset=[\"order_id\"])\n",
    "\n",
    "# 7. Order Reviews\n",
    "check_na_and_duplicates(df_reviews, \"order_reviews\")\n",
    "order_reviews = cast_numeric_int(df_reviews, [\"review_score\"])\n",
    "order_reviews = order_reviews.dropna(subset=[\"order_id\"])\n",
    "\n",
    "# 8. Geolocation\n",
    "check_na_and_duplicates(df_geolocation, \"geolocation\")\n",
    "geolocation = cast_numeric(df_geolocation, [\"geolocation_lat\", \"geolocation_lng\"])\n",
    "geolocation = geolocation.dropna(subset=[\"geolocation_zip_code_prefix\"])\n",
    "\n",
    "# 9. Product Category Name Translation\n",
    "check_na_and_duplicates(df_cat_trans, \"product_cat\")\n",
    "product_cat = df_cat_trans.dropna(subset=[\"product_category_name\"])\n",
    "# #10 . Date\n",
    "# from pyspark.sql.functions import to_timestamp, to_date\n",
    "# # Định dạng: M/d/yyyy  h:mm:ss a (2 dấu cách giữa yyyy và giờ)\n",
    "# # date_format = \"M/d/yyyy\"\n",
    "# # date = df_date.withColumn(\"fulldate\", to_date(to_timestamp(\"fulldate\", date_format)))\n",
    "# # date = df_date.withColumn(\"weekbegindate\", to_date(to_timestamp(\"weekbegindate\", date_format)))\n",
    "# # date = df_date.withColumn(\"samedayyearago\", to_date(to_timestamp(\"samedayyearago\", date_format)))\n",
    "# display(df_date.limit(2)) \n",
    "# print(df_date.schema[\"samedayyearago\"].dataType)\n",
    "# print(df_date.schema[\"fulldate\"].dataType)\n",
    "\n",
    "\n"
   ]
  },
  {
   "cell_type": "markdown",
   "metadata": {
    "application/vnd.databricks.v1+cell": {
     "cellMetadata": {
      "byteLimit": 2048000,
      "rowLimit": 10000
     },
     "inputWidgets": {},
     "nuid": "6108a695-8489-4609-b6bf-3c1007fb3d6b",
     "showTitle": false,
     "tableResultSettingsMap": {},
     "title": ""
    }
   },
   "source": [
    "# Bước 4: Ghi dữ liệu ra Delta Table (Silver Layer)"
   ]
  },
  {
   "cell_type": "markdown",
   "metadata": {
    "application/vnd.databricks.v1+cell": {
     "cellMetadata": {
      "byteLimit": 2048000,
      "rowLimit": 10000
     },
     "inputWidgets": {},
     "nuid": "ad419b13-8508-402f-adcd-8b67d33a2163",
     "showTitle": false,
     "tableResultSettingsMap": {},
     "title": ""
    }
   },
   "source": [
    "## 1. Lưu dữ liệu đã xử lý vào dạng Delta Table trong Silver Layer"
   ]
  },
  {
   "cell_type": "code",
   "execution_count": 0,
   "metadata": {
    "application/vnd.databricks.v1+cell": {
     "cellMetadata": {
      "byteLimit": 2048000,
      "rowLimit": 10000
     },
     "inputWidgets": {},
     "nuid": "f7344eb3-59c7-471a-997b-cd18f1d183ce",
     "showTitle": false,
     "tableResultSettingsMap": {},
     "title": ""
    }
   },
   "outputs": [],
   "source": [
    "# 1. Customers\n",
    "customers.write.format(\"delta\").mode(\"overwrite\").save(\n",
    "    \"dbfs:/mnt/lakehouse/silver/customers\"\n",
    ")\n",
    "\n",
    "# 2. Orders\n",
    "orders.write.format(\"delta\").mode(\"overwrite\").save(\"dbfs:/mnt/lakehouse/silver/orders\")\n",
    "\n",
    "# 3. Order Items\n",
    "order_items.write.format(\"delta\").mode(\"overwrite\").save(\n",
    "    \"dbfs:/mnt/lakehouse/silver/order_items\"\n",
    ")\n",
    "\n",
    "# 4. Products\n",
    "products.write.format(\"delta\").mode(\"overwrite\").save(\n",
    "    \"dbfs:/mnt/lakehouse/silver/products\"\n",
    ")\n",
    "\n",
    "# 5. Sellers\n",
    "sellers.write.format(\"delta\").mode(\"overwrite\").save(\n",
    "    \"dbfs:/mnt/lakehouse/silver/sellers\"\n",
    ")\n",
    "\n",
    "# 6. Order Payments\n",
    "order_payments.write.format(\"delta\").mode(\"overwrite\").save(\n",
    "    \"dbfs:/mnt/lakehouse/silver/order_payments\"\n",
    ")\n",
    "\n",
    "# 7. Order Reviews\n",
    "order_reviews.write.format(\"delta\").mode(\"overwrite\").save(\n",
    "    \"dbfs:/mnt/lakehouse/silver/order_reviews\"\n",
    ")\n",
    "\n",
    "# 8. Geolocation\n",
    "geolocation.write.format(\"delta\").mode(\"overwrite\").save(\n",
    "    \"dbfs:/mnt/lakehouse/silver/geolocation\"\n",
    ")\n",
    "\n",
    "# 9. Product Category Name Translation\n",
    "product_cat.write.format(\"delta\").mode(\"overwrite\").save(\n",
    "    \"dbfs:/mnt/lakehouse/silver/product_cat\"\n",
    ")\n",
    "\n",
    "# 10. Date\n",
    "df_date.write.format(\"delta\").mode(\"overwrite\").option(\"overwriteSchema\", \"true\").save(\n",
    "    \"dbfs:/mnt/lakehouse/silver/date\"\n",
    ")\n",
    "\n"
   ]
  },
  {
   "cell_type": "markdown",
   "metadata": {
    "application/vnd.databricks.v1+cell": {
     "cellMetadata": {
      "byteLimit": 2048000,
      "rowLimit": 10000
     },
     "inputWidgets": {},
     "nuid": "1dd86169-040b-4af4-b01e-a044cc0dbb08",
     "showTitle": false,
     "tableResultSettingsMap": {},
     "title": ""
    }
   },
   "source": [
    "## 2. Đưa Delta Table vào metastore để dễ truy vấn dữ liệu trong Silver Layer"
   ]
  },
  {
   "cell_type": "markdown",
   "metadata": {
    "application/vnd.databricks.v1+cell": {
     "cellMetadata": {
      "byteLimit": 2048000,
      "rowLimit": 10000
     },
     "inputWidgets": {},
     "nuid": "dc0c9a14-bbcb-4431-9282-471d992604be",
     "showTitle": false,
     "tableResultSettingsMap": {},
     "title": ""
    }
   },
   "source": [
    "### Tạo Database "
   ]
  },
  {
   "cell_type": "code",
   "execution_count": 0,
   "metadata": {
    "application/vnd.databricks.v1+cell": {
     "cellMetadata": {
      "byteLimit": 2048000,
      "implicitDf": true,
      "rowLimit": 10000
     },
     "inputWidgets": {},
     "nuid": "0161f550-d560-452c-9508-4e38ea5afc79",
     "showTitle": false,
     "tableResultSettingsMap": {},
     "title": ""
    }
   },
   "outputs": [],
   "source": [
    "%sql\n",
    "USE CATALOG hive_metastore;\n",
    "\n",
    "CREATE DATABASE IF NOT EXISTS olistdb LOCATION 'dbfs:/mnt/lakehouse/silver/olistdb';"
   ]
  },
  {
   "cell_type": "code",
   "execution_count": 0,
   "metadata": {
    "application/vnd.databricks.v1+cell": {
     "cellMetadata": {
      "byteLimit": 2048000,
      "implicitDf": true,
      "rowLimit": 10000
     },
     "inputWidgets": {},
     "nuid": "a8a85546-c58e-44f2-b7ee-f0f5c79940fd",
     "showTitle": false,
     "tableResultSettingsMap": {},
     "title": ""
    }
   },
   "outputs": [],
   "source": [
    "%sql\n",
    "DESCRIBE DATABASE EXTENDED olistdb;"
   ]
  },
  {
   "cell_type": "markdown",
   "metadata": {
    "application/vnd.databricks.v1+cell": {
     "cellMetadata": {
      "byteLimit": 2048000,
      "rowLimit": 10000
     },
     "inputWidgets": {},
     "nuid": "bbf2acd3-6227-4823-bed9-82062b9cfcc1",
     "showTitle": false,
     "tableResultSettingsMap": {},
     "title": ""
    }
   },
   "source": [
    "### 3. Tạo các bảng trong olistdb"
   ]
  },
  {
   "cell_type": "code",
   "execution_count": 0,
   "metadata": {
    "application/vnd.databricks.v1+cell": {
     "cellMetadata": {
      "byteLimit": 2048000,
      "implicitDf": true,
      "rowLimit": 10000
     },
     "inputWidgets": {},
     "nuid": "dfadb42d-19d0-478c-9207-06700ae2a2db",
     "showTitle": false,
     "tableResultSettingsMap": {},
     "title": ""
    }
   },
   "outputs": [],
   "source": [
    "%sql\n",
    "USE olistdb;\n",
    "\n",
    "-- 1. Customers\n",
    "CREATE TABLE IF NOT EXISTS silver_customers (\n",
    "  customer_id STRING,\n",
    "  customer_unique_id STRING,\n",
    "  customer_zip_code_prefix INT,\n",
    "  customer_city STRING,\n",
    "  customer_state STRING\n",
    ")\n",
    "TBLPROPERTIES (delta.autooptimize.optimizewrite = TRUE, delta.autooptimize.autocompact = TRUE);\n",
    "\n",
    "-- 2. Orders\n",
    "CREATE TABLE IF NOT EXISTS silver_orders (\n",
    "  order_id STRING,\n",
    "  customer_id STRING,\n",
    "  order_status STRING,\n",
    "  order_purchase_timestamp TIMESTAMP,\n",
    "  order_approved_at TIMESTAMP,\n",
    "  order_delivered_carrier_date TIMESTAMP,\n",
    "  order_delivered_customer_date TIMESTAMP,\n",
    "  order_estimated_delivery_date TIMESTAMP\n",
    ")\n",
    "TBLPROPERTIES (delta.autooptimize.optimizewrite = TRUE, delta.autooptimize.autocompact = TRUE);\n",
    "\n",
    "-- 3. Order Items\n",
    "CREATE TABLE IF NOT EXISTS silver_order_items (\n",
    "  order_id STRING,\n",
    "  order_item_id INT,\n",
    "  product_id STRING,\n",
    "  seller_id STRING,\n",
    "  shipping_limit_date TIMESTAMP,\n",
    "  price DOUBLE,\n",
    "  freight_value DOUBLE\n",
    ")\n",
    "TBLPROPERTIES (delta.autooptimize.optimizewrite = TRUE, delta.autooptimize.autocompact = TRUE);\n",
    "\n",
    "-- 4. Products\n",
    "CREATE TABLE IF NOT EXISTS silver_products (\n",
    "  product_id STRING,\n",
    "  product_category_name STRING,\n",
    "  product_name_lenght INT,\n",
    "  product_description_lenght INT,\n",
    "  product_photos_qty INT,\n",
    "  product_weight_g INT,\n",
    "  product_length_cm INT,\n",
    "  product_height_cm INT,\n",
    "  product_width_cm INT\n",
    ")\n",
    "TBLPROPERTIES (delta.autooptimize.optimizewrite = TRUE, delta.autooptimize.autocompact = TRUE);\n",
    "\n",
    "-- 5. Sellers\n",
    "CREATE TABLE IF NOT EXISTS silver_sellers (\n",
    "  seller_id STRING, seller_zip_code_prefix STRING, seller_city STRING, seller_state STRING\n",
    ")\n",
    "TBLPROPERTIES (delta.autooptimize.optimizewrite = TRUE, delta.autooptimize.autocompact = TRUE);\n",
    "\n",
    "-- 6. Order Payments\n",
    "CREATE TABLE IF NOT EXISTS silver_order_payments (\n",
    "  order_id STRING,\n",
    "  payment_sequential INT,\n",
    "  payment_type STRING,\n",
    "  payment_installments INT,\n",
    "  payment_value DOUBLE\n",
    ")\n",
    "TBLPROPERTIES (delta.autooptimize.optimizewrite = TRUE, delta.autooptimize.autocompact = TRUE);\n",
    "\n",
    "-- 7. Order Reviews\n",
    "CREATE TABLE IF NOT EXISTS silver_order_reviews (\n",
    "  review_id STRING,\n",
    "  order_id STRING,\n",
    "  review_score INT,\n",
    "  review_comment_title STRING,\n",
    "  review_comment_message STRING,\n",
    "  review_creation_date TIMESTAMP,\n",
    "  review_answer_timestamp TIMESTAMP\n",
    ")\n",
    "TBLPROPERTIES (delta.autooptimize.optimizewrite = TRUE, delta.autooptimize.autocompact = TRUE);\n",
    "\n",
    "-- 8. Geolocation\n",
    "CREATE TABLE IF NOT EXISTS silver_geolocation (\n",
    "  geolocation_zip_code_prefix STRING,\n",
    "  geolocation_lat DOUBLE,\n",
    "  geolocation_lng DOUBLE,\n",
    "  geolocation_city STRING,\n",
    "  geolocation_state STRING\n",
    ")\n",
    "TBLPROPERTIES (delta.autooptimize.optimizewrite = TRUE, delta.autooptimize.autocompact = TRUE);\n",
    "\n",
    "-- 9. Product Category Name Translation\n",
    "CREATE TABLE IF NOT EXISTS silver_product_category_name_translation (\n",
    "  product_category_name STRING, product_category_name_english STRING\n",
    ")\n",
    "TBLPROPERTIES (delta.autooptimize.optimizewrite = TRUE, delta.autooptimize.autocompact = TRUE);\n",
    "\n",
    "-- 10. Date\n",
    "CREATE TABLE IF NOT EXISTS silver_date (\n",
    "    date_key INT NOT NULL,\n",
    "    full_date DATE,\n",
    "    day_of_week INT,\n",
    "    day_num_in_month INT,\n",
    "    day_num_overall INT,\n",
    "    day_name STRING,\n",
    "    day_abbrev STRING,\n",
    "    weekday_flag STRING,\n",
    "    week_num_in_year INT,\n",
    "    week_num_overall INT,\n",
    "    week_begin_date DATE,\n",
    "    week_begin_date_key INT,\n",
    "    month INT,\n",
    "    month_num_overall INT,\n",
    "    month_name STRING,\n",
    "    month_abbrev STRING,\n",
    "    quarter INT,\n",
    "    year INT,\n",
    "    yearmo INT,\n",
    "    fiscal_month INT,\n",
    "    fiscal_quarter INT,\n",
    "    fiscal_year INT,\n",
    "    last_day_in_month_flag STRING,\n",
    "    same_day_year_ago_date DATE\n",
    ")\n",
    "TBLPROPERTIES (delta.autooptimize.optimizewrite = TRUE, delta.autooptimize.autocompact = TRUE);\n"
   ]
  },
  {
   "cell_type": "markdown",
   "metadata": {
    "application/vnd.databricks.v1+cell": {
     "cellMetadata": {
      "byteLimit": 2048000,
      "rowLimit": 10000
     },
     "inputWidgets": {},
     "nuid": "69e7d5a0-2cc7-4bf4-aa08-0eeeb2ab32f7",
     "showTitle": false,
     "tableResultSettingsMap": {},
     "title": ""
    }
   },
   "source": [
    "### Load Delta Table và đưa vào các bảng trong metastore"
   ]
  },
  {
   "cell_type": "code",
   "execution_count": 0,
   "metadata": {
    "application/vnd.databricks.v1+cell": {
     "cellMetadata": {
      "byteLimit": 2048000,
      "rowLimit": 10000
     },
     "inputWidgets": {},
     "nuid": "763ef719-b035-4640-9d90-336810f7194a",
     "showTitle": false,
     "tableResultSettingsMap": {},
     "title": ""
    }
   },
   "outputs": [],
   "source": [
    "from pyspark.sql import SparkSession\n",
    "\n",
    "# Create a Spark session\n",
    "spark = SparkSession.builder.getOrCreate()\n",
    "# 1. Customers\n",
    "dt_customers = spark.read.format(\"delta\").load(\"dbfs:/mnt/lakehouse/silver/customers\")\n",
    "\n",
    "# 2. Orders\n",
    "dt_orders = spark.read.format(\"delta\").load(\"dbfs:/mnt/lakehouse/silver/orders\")\n",
    "\n",
    "# 3. Order Items\n",
    "dt_order_items = spark.read.format(\"delta\").load(\n",
    "    \"dbfs:/mnt/lakehouse/silver/order_items\"\n",
    ")\n",
    "\n",
    "# 4. Products\n",
    "dt_products = spark.read.format(\"delta\").load(\"dbfs:/mnt/lakehouse/silver/products\")\n",
    "\n",
    "# 5. Sellers\n",
    "dt_sellers = spark.read.format(\"delta\").load(\"dbfs:/mnt/lakehouse/silver/sellers\")\n",
    "\n",
    "# 6. Order Payments\n",
    "dt_order_payments = spark.read.format(\"delta\").load(\n",
    "    \"dbfs:/mnt/lakehouse/silver/order_payments\"\n",
    ")\n",
    "\n",
    "# 7. Order Reviews\n",
    "dt_order_reviews = spark.read.format(\"delta\").load(\n",
    "    \"dbfs:/mnt/lakehouse/silver/order_reviews\"\n",
    ")\n",
    "\n",
    "# 8. Geolocation\n",
    "dt_geolocation = spark.read.format(\"delta\").load(\n",
    "    \"dbfs:/mnt/lakehouse/silver/geolocation\"\n",
    ")\n",
    "\n",
    "# 9. Product Category Name Translation\n",
    "dt_product_cat = spark.read.format(\"delta\").load(\n",
    "    \"dbfs:/mnt/lakehouse/silver/product_cat\"\n",
    ")\n",
    "\n",
    "# 10. Date\n",
    "dt_date = spark.read.format(\"delta\").load(\n",
    "    \"dbfs:/mnt/lakehouse/silver/date\"\n",
    ")\n"
   ]
  },
  {
   "cell_type": "markdown",
   "metadata": {
    "application/vnd.databricks.v1+cell": {
     "cellMetadata": {
      "byteLimit": 2048000,
      "rowLimit": 10000
     },
     "inputWidgets": {},
     "nuid": "f9bb8f84-1265-49c4-913e-9de5de12297a",
     "showTitle": false,
     "tableResultSettingsMap": {},
     "title": ""
    }
   },
   "source": [
    "### Kiểm tra các Delta Table "
   ]
  },
  {
   "cell_type": "code",
   "execution_count": 0,
   "metadata": {
    "application/vnd.databricks.v1+cell": {
     "cellMetadata": {
      "byteLimit": 2048000,
      "rowLimit": 10000
     },
     "inputWidgets": {},
     "nuid": "6b275ac1-625f-4819-b7b2-7dd558a78a3f",
     "showTitle": false,
     "tableResultSettingsMap": {},
     "title": ""
    }
   },
   "outputs": [],
   "source": [
    "display(dt_customers.head(2))\n",
    "display(dt_orders.head(2))\n",
    "display(dt_order_items.head(2))\n",
    "display(dt_products.head(2))\n",
    "display(dt_sellers.head(2))\n",
    "display(dt_order_payments.head(2))\n",
    "display(dt_order_reviews.limit(2))\n",
    "display(dt_geolocation.head(2))\n",
    "display(dt_product_cat.head(2))\n",
    "display(dt_date.limit(2))"
   ]
  },
  {
   "cell_type": "markdown",
   "metadata": {
    "application/vnd.databricks.v1+cell": {
     "cellMetadata": {
      "byteLimit": 2048000,
      "rowLimit": 10000
     },
     "inputWidgets": {},
     "nuid": "f0067997-c5a4-457d-868a-3cbf3b3e9ea6",
     "showTitle": false,
     "tableResultSettingsMap": {},
     "title": ""
    }
   },
   "source": [
    "### Load Data vào các bảng trong metastore"
   ]
  },
  {
   "cell_type": "code",
   "execution_count": 0,
   "metadata": {
    "application/vnd.databricks.v1+cell": {
     "cellMetadata": {
      "byteLimit": 2048000,
      "rowLimit": 10000
     },
     "inputWidgets": {},
     "nuid": "55838a09-74ce-4b3a-b1f1-a60936dc5cb0",
     "showTitle": false,
     "tableResultSettingsMap": {},
     "title": ""
    }
   },
   "outputs": [],
   "source": [
    "# 1. Customers\n",
    "dt_customers.write.mode(\"overwrite\").insertInto(\"silver_customers\")\n",
    "\n",
    "# 2. Orders\n",
    "dt_orders.write.mode(\"overwrite\").insertInto(\"silver_orders\")\n",
    "\n",
    "# 3. Order Items\n",
    "dt_order_items.write.mode(\"overwrite\").insertInto(\"silver_order_items\")\n",
    "\n",
    "# 4. Products\n",
    "dt_products.write.mode(\"overwrite\").insertInto(\"silver_products\")\n",
    "\n",
    "# 5. Sellers\n",
    "dt_sellers.write.mode(\"overwrite\").insertInto(\"silver_sellers\")\n",
    "\n",
    "# 6. Order Payments\n",
    "dt_order_payments.write.mode(\"overwrite\").insertInto(\"silver_order_payments\")\n",
    "\n",
    "# 7. Order Reviews\n",
    "dt_order_reviews.write.mode(\"overwrite\").insertInto(\"silver_order_reviews\")\n",
    "\n",
    "# 8. Geolocation\n",
    "dt_geolocation.write.mode(\"overwrite\").insertInto(\"silver_geolocation\")\n",
    "\n",
    "# 9. Product Category Name Translation\n",
    "dt_product_cat.write.mode(\"overwrite\").insertInto(\n",
    "    \"silver_product_category_name_translation\"\n",
    ")\n",
    "\n",
    "# 10. Date\n",
    "dt_date.write.mode(\"overwrite\").insertInto(\n",
    "    \"silver_date\"\n",
    ")"
   ]
  },
  {
   "cell_type": "code",
   "execution_count": 0,
   "metadata": {
    "application/vnd.databricks.v1+cell": {
     "cellMetadata": {
      "byteLimit": 2048000,
      "rowLimit": 10000
     },
     "inputWidgets": {},
     "nuid": "40ed3cbe-4da9-4f37-9a40-baf5d5d0fa02",
     "showTitle": false,
     "tableResultSettingsMap": {},
     "title": ""
    }
   },
   "outputs": [],
   "source": [
    "print(dt_date.columns)\n"
   ]
  },
  {
   "cell_type": "markdown",
   "metadata": {
    "application/vnd.databricks.v1+cell": {
     "cellMetadata": {
      "byteLimit": 2048000,
      "rowLimit": 10000
     },
     "inputWidgets": {},
     "nuid": "319fbfd3-dd56-4e71-903a-3a11fc68b298",
     "showTitle": false,
     "tableResultSettingsMap": {},
     "title": ""
    }
   },
   "source": [
    "## Bước 5. Kiểm tra các bảng sau khi thêm data"
   ]
  },
  {
   "cell_type": "code",
   "execution_count": 0,
   "metadata": {
    "application/vnd.databricks.v1+cell": {
     "cellMetadata": {
      "byteLimit": 2048000,
      "implicitDf": true,
      "rowLimit": 10000
     },
     "inputWidgets": {},
     "nuid": "af246f2e-f52f-4b81-9031-ac9e8172d1c1",
     "showTitle": false,
     "tableResultSettingsMap": {},
     "title": ""
    }
   },
   "outputs": [],
   "source": [
    "%sql\n",
    "select\n",
    "  *\n",
    "from\n",
    "  silver_customers"
   ]
  },
  {
   "cell_type": "code",
   "execution_count": 0,
   "metadata": {
    "application/vnd.databricks.v1+cell": {
     "cellMetadata": {
      "byteLimit": 2048000,
      "implicitDf": true,
      "rowLimit": 10000
     },
     "inputWidgets": {},
     "nuid": "5655567a-6274-4946-a7a5-b88504a80d53",
     "showTitle": false,
     "tableResultSettingsMap": {},
     "title": ""
    }
   },
   "outputs": [],
   "source": [
    "%sql\n",
    "SELECT\n",
    "  *\n",
    "FROM\n",
    "  silver_orders"
   ]
  },
  {
   "cell_type": "code",
   "execution_count": 0,
   "metadata": {
    "application/vnd.databricks.v1+cell": {
     "cellMetadata": {
      "byteLimit": 2048000,
      "implicitDf": true,
      "rowLimit": 10000
     },
     "inputWidgets": {},
     "nuid": "99d5f320-2e2a-472c-8b32-9dff3c65b983",
     "showTitle": false,
     "tableResultSettingsMap": {},
     "title": ""
    }
   },
   "outputs": [],
   "source": [
    "%sql\n",
    "select\n",
    "  *\n",
    "from\n",
    "  silver_geolocation"
   ]
  },
  {
   "cell_type": "code",
   "execution_count": 0,
   "metadata": {
    "application/vnd.databricks.v1+cell": {
     "cellMetadata": {
      "byteLimit": 2048000,
      "implicitDf": true,
      "rowLimit": 10000
     },
     "inputWidgets": {},
     "nuid": "87916ac3-7d55-4bf5-a30c-0553a613c96e",
     "showTitle": false,
     "tableResultSettingsMap": {},
     "title": ""
    }
   },
   "outputs": [],
   "source": [
    "%sql\n",
    "select\n",
    "  *\n",
    "from\n",
    "  silver_order_items"
   ]
  },
  {
   "cell_type": "code",
   "execution_count": 0,
   "metadata": {
    "application/vnd.databricks.v1+cell": {
     "cellMetadata": {
      "byteLimit": 2048000,
      "implicitDf": true,
      "rowLimit": 10000
     },
     "inputWidgets": {},
     "nuid": "12357b62-efca-4c47-a078-f593c5ebea0e",
     "showTitle": false,
     "tableResultSettingsMap": {},
     "title": ""
    }
   },
   "outputs": [],
   "source": [
    "%sql\n",
    "select\n",
    "  *\n",
    "from\n",
    "  silver_order_payments"
   ]
  },
  {
   "cell_type": "code",
   "execution_count": 0,
   "metadata": {
    "application/vnd.databricks.v1+cell": {
     "cellMetadata": {
      "byteLimit": 2048000,
      "implicitDf": true,
      "rowLimit": 10000
     },
     "inputWidgets": {},
     "nuid": "fb68772b-4d41-4f58-b4ec-1bd41175a34d",
     "showTitle": false,
     "tableResultSettingsMap": {},
     "title": ""
    }
   },
   "outputs": [],
   "source": [
    "%sql\n",
    "select\n",
    "  *\n",
    "from\n",
    "  silver_order_reviews"
   ]
  },
  {
   "cell_type": "code",
   "execution_count": 0,
   "metadata": {
    "application/vnd.databricks.v1+cell": {
     "cellMetadata": {
      "byteLimit": 2048000,
      "implicitDf": true,
      "rowLimit": 10000
     },
     "inputWidgets": {},
     "nuid": "75023842-2080-4de4-aa7a-a7a41af398b9",
     "showTitle": false,
     "tableResultSettingsMap": {},
     "title": ""
    }
   },
   "outputs": [],
   "source": [
    "%sql\n",
    "select\n",
    "  *\n",
    "from\n",
    "  silver_products"
   ]
  },
  {
   "cell_type": "code",
   "execution_count": 0,
   "metadata": {
    "application/vnd.databricks.v1+cell": {
     "cellMetadata": {
      "byteLimit": 2048000,
      "implicitDf": true,
      "rowLimit": 10000
     },
     "inputWidgets": {},
     "nuid": "b5df22f4-fc2e-4be1-a8e8-5ab3c99502ce",
     "showTitle": false,
     "tableResultSettingsMap": {},
     "title": ""
    }
   },
   "outputs": [],
   "source": [
    "%sql\n",
    "select\n",
    "  *\n",
    "from\n",
    "  silver_sellers"
   ]
  },
  {
   "cell_type": "code",
   "execution_count": 0,
   "metadata": {
    "application/vnd.databricks.v1+cell": {
     "cellMetadata": {
      "byteLimit": 2048000,
      "implicitDf": true,
      "rowLimit": 10000
     },
     "inputWidgets": {},
     "nuid": "4c1248cd-d774-4c58-9463-f8bb9205d30a",
     "showTitle": false,
     "tableResultSettingsMap": {},
     "title": ""
    }
   },
   "outputs": [],
   "source": [
    "%sql\n",
    "select\n",
    "  *\n",
    "from\n",
    "  silver_product_category_name_translation"
   ]
  },
  {
   "cell_type": "code",
   "execution_count": 0,
   "metadata": {
    "application/vnd.databricks.v1+cell": {
     "cellMetadata": {
      "byteLimit": 2048000,
      "implicitDf": true,
      "rowLimit": 10000
     },
     "inputWidgets": {},
     "nuid": "70add04a-c747-4a35-b32c-8ecf372b4f0e",
     "showTitle": false,
     "tableResultSettingsMap": {},
     "title": ""
    }
   },
   "outputs": [],
   "source": [
    "%sql\n",
    "select *\n",
    "from\n",
    "  silver_date"
   ]
  },
  {
   "cell_type": "markdown",
   "metadata": {
    "application/vnd.databricks.v1+cell": {
     "cellMetadata": {
      "byteLimit": 2048000,
      "rowLimit": 10000
     },
     "inputWidgets": {},
     "nuid": "ebea4d19-b426-408f-826d-2b22d60439d0",
     "showTitle": false,
     "tableResultSettingsMap": {},
     "title": ""
    }
   },
   "source": [
    "## Bước 6 : Tạo các bảng Delta Table cho Gold Layer"
   ]
  },
  {
   "cell_type": "markdown",
   "metadata": {
    "application/vnd.databricks.v1+cell": {
     "cellMetadata": {
      "byteLimit": 2048000,
      "rowLimit": 10000
     },
     "inputWidgets": {},
     "nuid": "2eaed619-0ee2-492b-b224-650fc696eac4",
     "showTitle": false,
     "tableResultSettingsMap": {},
     "title": ""
    }
   },
   "source": [
    "### 1. Tạo database olistdb_gold"
   ]
  },
  {
   "cell_type": "code",
   "execution_count": 0,
   "metadata": {
    "application/vnd.databricks.v1+cell": {
     "cellMetadata": {
      "byteLimit": 2048000,
      "implicitDf": true,
      "rowLimit": 10000
     },
     "inputWidgets": {},
     "nuid": "20aaf049-b151-4d17-93ea-78afdd7eec79",
     "showTitle": false,
     "tableResultSettingsMap": {},
     "title": ""
    }
   },
   "outputs": [],
   "source": [
    "%sql\n",
    "USE CATALOG hive_metastore;\n",
    "\n",
    "CREATE DATABASE IF NOT EXISTS olistdb_gold LOCATION 'dbfs:/mnt/lakehouse/gold/olistdb_gold';"
   ]
  },
  {
   "cell_type": "code",
   "execution_count": 0,
   "metadata": {
    "application/vnd.databricks.v1+cell": {
     "cellMetadata": {
      "byteLimit": 2048000,
      "implicitDf": true,
      "rowLimit": 10000
     },
     "inputWidgets": {},
     "nuid": "f5c4481c-2f7a-4c73-a459-6a8934b7f0eb",
     "showTitle": false,
     "tableResultSettingsMap": {},
     "title": ""
    }
   },
   "outputs": [],
   "source": [
    "%sql\n",
    "DESCRIBE DATABASE EXTENDED olistdb_gold;"
   ]
  },
  {
   "cell_type": "markdown",
   "metadata": {
    "application/vnd.databricks.v1+cell": {
     "cellMetadata": {
      "byteLimit": 2048000,
      "rowLimit": 10000
     },
     "inputWidgets": {},
     "nuid": "5027bdda-c896-4b0b-b483-5a0ccd63fdb3",
     "showTitle": false,
     "tableResultSettingsMap": {},
     "title": ""
    }
   },
   "source": [
    "### 2. Tạo các Delta Table "
   ]
  },
  {
   "cell_type": "code",
   "execution_count": 0,
   "metadata": {
    "application/vnd.databricks.v1+cell": {
     "cellMetadata": {
      "byteLimit": 2048000,
      "implicitDf": true,
      "rowLimit": 10000
     },
     "inputWidgets": {},
     "nuid": "71b3bc52-42f3-41a8-ab37-825bc8078d8c",
     "showTitle": false,
     "tableResultSettingsMap": {},
     "title": ""
    }
   },
   "outputs": [],
   "source": [
    "%sql\n",
    "USE olistdb_gold;"
   ]
  },
  {
   "cell_type": "markdown",
   "metadata": {
    "application/vnd.databricks.v1+cell": {
     "cellMetadata": {
      "byteLimit": 2048000,
      "rowLimit": 10000
     },
     "inputWidgets": {},
     "nuid": "89f3c10c-c81e-4ba0-bad9-782033f6c49d",
     "showTitle": false,
     "tableResultSettingsMap": {},
     "title": ""
    }
   },
   "source": [
    "#### Tạo các bảng dim"
   ]
  },
  {
   "cell_type": "markdown",
   "metadata": {
    "application/vnd.databricks.v1+cell": {
     "cellMetadata": {
      "byteLimit": 2048000,
      "rowLimit": 10000
     },
     "inputWidgets": {},
     "nuid": "5b7fa416-d2e6-4f8f-adb9-961b9d732c2c",
     "showTitle": false,
     "tableResultSettingsMap": {},
     "title": ""
    }
   },
   "source": [
    "##### 1. Dim Customer"
   ]
  },
  {
   "cell_type": "code",
   "execution_count": 0,
   "metadata": {
    "application/vnd.databricks.v1+cell": {
     "cellMetadata": {
      "byteLimit": 2048000,
      "implicitDf": true,
      "rowLimit": 10000
     },
     "inputWidgets": {},
     "nuid": "9a596225-b614-473c-a4fa-2edbb8344741",
     "showTitle": false,
     "tableResultSettingsMap": {},
     "title": ""
    }
   },
   "outputs": [],
   "source": [
    "%sql\n",
    "CREATE OR REPLACE TABLE dim_customer (\n",
    "    customerKey BIGINT GENERATED ALWAYS AS IDENTITY,   -- surrogate key tự động tăng\n",
    "    customer_id STRING NOT NULL,\n",
    "    customer_unique_id STRING,\n",
    "    customer_zip_code_prefix INT,\n",
    "    customer_city STRING,\n",
    "    customer_state STRING\n",
    ")\n",
    "USING DELTA;\n",
    "\n",
    "INSERT INTO dim_customer (\n",
    "    customer_id, customer_unique_id, customer_zip_code_prefix, customer_city, customer_state\n",
    ")\n",
    "SELECT DISTINCT\n",
    "    customer_id,\n",
    "    customer_unique_id,\n",
    "    customer_zip_code_prefix,\n",
    "    customer_city,\n",
    "    customer_state\n",
    "FROM\n",
    "    olistdb.silver_customers;\n"
   ]
  },
  {
   "cell_type": "code",
   "execution_count": 0,
   "metadata": {
    "application/vnd.databricks.v1+cell": {
     "cellMetadata": {
      "byteLimit": 2048000,
      "implicitDf": true,
      "rowLimit": 10000
     },
     "inputWidgets": {},
     "nuid": "2b309e85-a534-4e4a-a4b0-4b09adf16d96",
     "showTitle": false,
     "tableResultSettingsMap": {},
     "title": ""
    }
   },
   "outputs": [],
   "source": [
    "%sql\n",
    "SELECT\n",
    "  *\n",
    "FROM\n",
    "  dim_customer"
   ]
  },
  {
   "cell_type": "markdown",
   "metadata": {
    "application/vnd.databricks.v1+cell": {
     "cellMetadata": {
      "byteLimit": 2048000,
      "rowLimit": 10000
     },
     "inputWidgets": {},
     "nuid": "09d353fb-c8bf-428f-9a0f-00d23056352a",
     "showTitle": false,
     "tableResultSettingsMap": {},
     "title": ""
    }
   },
   "source": [
    "##### Dim Products"
   ]
  },
  {
   "cell_type": "code",
   "execution_count": 0,
   "metadata": {
    "application/vnd.databricks.v1+cell": {
     "cellMetadata": {
      "byteLimit": 2048000,
      "implicitDf": true,
      "rowLimit": 10000
     },
     "inputWidgets": {},
     "nuid": "e750b7aa-ee67-4514-8728-4179c14208b9",
     "showTitle": false,
     "tableResultSettingsMap": {},
     "title": ""
    }
   },
   "outputs": [],
   "source": [
    "%sql\n",
    "CREATE OR REPLACE TABLE dim_product (\n",
    "    productKey BIGINT GENERATED ALWAYS AS IDENTITY,    -- surrogate key tự động tăng\n",
    "    product_id STRING NOT NULL,                        -- ID gốc từ hệ thống Olist\n",
    "    product_category_name STRING,                      -- Tên danh mục sản phẩm\n",
    "    product_name_lenght INT,                           -- Độ dài tên sản phẩm\n",
    "    product_description_lenght INT,                    -- Độ dài mô tả\n",
    "    product_photos_qty INT,                            -- Số lượng ảnh\n",
    "    product_weight_g INT,                              -- Trọng lượng (gram)\n",
    "    product_length_cm INT,                             -- Dài\n",
    "    product_height_cm INT,                             -- Cao\n",
    "    product_width_cm INT                               -- Rộng\n",
    ")\n",
    "USING DELTA;\n",
    "\n",
    "INSERT INTO dim_product (\n",
    "    product_id,\n",
    "    product_category_name,\n",
    "    product_name_lenght,\n",
    "    product_description_lenght,\n",
    "    product_photos_qty,\n",
    "    product_weight_g,\n",
    "    product_length_cm,\n",
    "    product_height_cm,\n",
    "    product_width_cm\n",
    ")\n",
    "SELECT DISTINCT\n",
    "    p.product_id,\n",
    "    p.product_category_name,\n",
    "    p.product_name_lenght,\n",
    "    p.product_description_lenght,\n",
    "    p.product_photos_qty,\n",
    "    p.product_weight_g,\n",
    "    p.product_length_cm,\n",
    "    p.product_height_cm,\n",
    "    p.product_width_cm\n",
    "FROM olistdb.silver_products p\n",
    "\n",
    "\n",
    "    "
   ]
  },
  {
   "cell_type": "code",
   "execution_count": 0,
   "metadata": {
    "application/vnd.databricks.v1+cell": {
     "cellMetadata": {
      "byteLimit": 2048000,
      "implicitDf": true,
      "rowLimit": 10000
     },
     "inputWidgets": {},
     "nuid": "3ab005ac-69a3-4e3c-b8ca-bc8560054b8d",
     "showTitle": false,
     "tableResultSettingsMap": {},
     "title": ""
    }
   },
   "outputs": [],
   "source": [
    "%sql\n",
    "SELECT\n",
    "  *\n",
    "FROM\n",
    "  dim_product"
   ]
  },
  {
   "cell_type": "markdown",
   "metadata": {
    "application/vnd.databricks.v1+cell": {
     "cellMetadata": {
      "byteLimit": 2048000,
      "rowLimit": 10000
     },
     "inputWidgets": {},
     "nuid": "3002f7c8-1d2f-40bf-b13a-7538817aa6fe",
     "showTitle": false,
     "tableResultSettingsMap": {},
     "title": ""
    }
   },
   "source": [
    "##### 3. Dim Seller"
   ]
  },
  {
   "cell_type": "code",
   "execution_count": 0,
   "metadata": {
    "application/vnd.databricks.v1+cell": {
     "cellMetadata": {
      "byteLimit": 2048000,
      "implicitDf": true,
      "rowLimit": 10000
     },
     "inputWidgets": {},
     "nuid": "990b5034-37e0-4c6b-8edf-6999b2c07316",
     "showTitle": false,
     "tableResultSettingsMap": {},
     "title": ""
    }
   },
   "outputs": [],
   "source": [
    "%sql\n",
    "CREATE OR REPLACE TABLE dim_seller (\n",
    "    sellerKey BIGINT GENERATED ALWAYS AS IDENTITY,    -- surrogate key tự động tăng\n",
    "    seller_id STRING NOT NULL,                        -- Mã người bán trong hệ thống\n",
    "    seller_zip_code_prefix INT,                       -- Mã vùng\n",
    "    seller_city STRING,                               -- Thành phố\n",
    "    seller_state STRING NOT NULL                      -- Bang\n",
    ")\n",
    "USING DELTA;\n",
    "\n",
    "INSERT INTO dim_seller (\n",
    "    seller_id,\n",
    "    seller_zip_code_prefix,\n",
    "    seller_city,\n",
    "    seller_state\n",
    ")\n",
    "SELECT DISTINCT\n",
    "    seller_id,\n",
    "    seller_zip_code_prefix,\n",
    "    seller_city,\n",
    "    seller_state\n",
    "FROM\n",
    "    olistdb.silver_sellers;\n"
   ]
  },
  {
   "cell_type": "code",
   "execution_count": 0,
   "metadata": {
    "application/vnd.databricks.v1+cell": {
     "cellMetadata": {
      "byteLimit": 2048000,
      "implicitDf": true,
      "rowLimit": 10000
     },
     "inputWidgets": {},
     "nuid": "335b2ba0-d816-469f-bf10-c6ae3854029e",
     "showTitle": false,
     "tableResultSettingsMap": {},
     "title": ""
    }
   },
   "outputs": [],
   "source": [
    "%sql\n",
    "SELECT\n",
    "  *\n",
    "FROM\n",
    "  dim_seller"
   ]
  },
  {
   "cell_type": "markdown",
   "metadata": {
    "application/vnd.databricks.v1+cell": {
     "cellMetadata": {
      "byteLimit": 2048000,
      "rowLimit": 10000
     },
     "inputWidgets": {},
     "nuid": "47ff01ba-0432-43ce-933a-354125b4b366",
     "showTitle": false,
     "tableResultSettingsMap": {},
     "title": ""
    }
   },
   "source": [
    "##### 4. DimGeolocation "
   ]
  },
  {
   "cell_type": "code",
   "execution_count": 0,
   "metadata": {
    "application/vnd.databricks.v1+cell": {
     "cellMetadata": {
      "byteLimit": 2048000,
      "implicitDf": true,
      "rowLimit": 10000
     },
     "inputWidgets": {},
     "nuid": "c013841f-da2a-43f3-ba42-34ffc17cbe30",
     "showTitle": false,
     "tableResultSettingsMap": {},
     "title": ""
    }
   },
   "outputs": [],
   "source": [
    "%sql\n",
    "CREATE OR REPLACE TABLE dim_geolocation (\n",
    "    geoKey BIGINT GENERATED ALWAYS AS IDENTITY,    -- surrogate key tự động tăng\n",
    "    geolocation_zip_code_prefix INT NOT NULL,      -- Mã ZIP\n",
    "    geolocation_lat DOUBLE,                        -- Vĩ độ (dùng DOUBLE cho chuẩn Databricks)\n",
    "    geolocation_lng DOUBLE,                        -- Kinh độ\n",
    "    geolocation_city STRING,                       -- Thành phố\n",
    "    geolocation_state STRING NOT NULL              -- Bang\n",
    ")\n",
    "USING DELTA;\n",
    "\n",
    "INSERT INTO dim_geolocation (\n",
    "    geolocation_zip_code_prefix,\n",
    "    geolocation_lat,\n",
    "    geolocation_lng,\n",
    "    geolocation_city,\n",
    "    geolocation_state\n",
    ")\n",
    "SELECT DISTINCT\n",
    "    geolocation_zip_code_prefix,\n",
    "    geolocation_lat,\n",
    "    geolocation_lng,\n",
    "    geolocation_city,\n",
    "    geolocation_state\n",
    "FROM\n",
    "    olistdb.silver_geolocation;\n"
   ]
  },
  {
   "cell_type": "code",
   "execution_count": 0,
   "metadata": {
    "application/vnd.databricks.v1+cell": {
     "cellMetadata": {
      "byteLimit": 2048000,
      "implicitDf": true,
      "rowLimit": 10000
     },
     "inputWidgets": {},
     "nuid": "4e5d3387-df84-4cf2-9ada-29a259a297ee",
     "showTitle": false,
     "tableResultSettingsMap": {},
     "title": ""
    }
   },
   "outputs": [],
   "source": [
    "%sql\n",
    "SELECT\n",
    "  *\n",
    "FROM\n",
    "  dim_geolocation"
   ]
  },
  {
   "cell_type": "markdown",
   "metadata": {
    "application/vnd.databricks.v1+cell": {
     "cellMetadata": {
      "byteLimit": 2048000,
      "rowLimit": 10000
     },
     "inputWidgets": {},
     "nuid": "7b342940-bc2f-4609-b5e2-51c12f83b359",
     "showTitle": false,
     "tableResultSettingsMap": {},
     "title": ""
    }
   },
   "source": [
    "##### 5. DimOrders"
   ]
  },
  {
   "cell_type": "code",
   "execution_count": 0,
   "metadata": {
    "application/vnd.databricks.v1+cell": {
     "cellMetadata": {
      "byteLimit": 2048000,
      "implicitDf": true,
      "rowLimit": 10000
     },
     "inputWidgets": {},
     "nuid": "d3a80582-938e-4f55-9090-396db22f9104",
     "showTitle": false,
     "tableResultSettingsMap": {},
     "title": ""
    }
   },
   "outputs": [],
   "source": [
    "%sql\n",
    "CREATE OR REPLACE TABLE dim_order (\n",
    "    orderKey BIGINT GENERATED ALWAYS AS IDENTITY,    -- surrogate key tự động tăng\n",
    "    order_id STRING NOT NULL,                        -- Mã đơn hàng\n",
    "    customer_id STRING NOT NULL,                     -- Khách hàng\n",
    "    order_status STRING NOT NULL                     -- Trạng thái đơn hàng\n",
    ")\n",
    "USING DELTA;\n",
    "\n",
    "INSERT INTO dim_order (\n",
    "    order_id,\n",
    "    customer_id,\n",
    "    order_status\n",
    ")\n",
    "SELECT DISTINCT\n",
    "    order_id,\n",
    "    customer_id,\n",
    "    order_status\n",
    "FROM\n",
    "    olistdb.silver_orders;\n"
   ]
  },
  {
   "cell_type": "code",
   "execution_count": 0,
   "metadata": {
    "application/vnd.databricks.v1+cell": {
     "cellMetadata": {
      "byteLimit": 2048000,
      "implicitDf": true,
      "rowLimit": 10000
     },
     "inputWidgets": {},
     "nuid": "44e84070-a065-47b0-8f1d-59ff692f3adc",
     "showTitle": false,
     "tableResultSettingsMap": {},
     "title": ""
    }
   },
   "outputs": [],
   "source": [
    "%sql\n",
    "select\n",
    "  *\n",
    "from\n",
    "  dim_order"
   ]
  },
  {
   "cell_type": "markdown",
   "metadata": {
    "application/vnd.databricks.v1+cell": {
     "cellMetadata": {
      "byteLimit": 2048000,
      "rowLimit": 10000
     },
     "inputWidgets": {},
     "nuid": "d3de467c-0dc1-4ef8-ae03-6e1b974eed15",
     "showTitle": false,
     "tableResultSettingsMap": {},
     "title": ""
    }
   },
   "source": [
    "##### 6. DimOrderItem"
   ]
  },
  {
   "cell_type": "code",
   "execution_count": 0,
   "metadata": {
    "application/vnd.databricks.v1+cell": {
     "cellMetadata": {
      "byteLimit": 2048000,
      "implicitDf": true,
      "rowLimit": 10000
     },
     "inputWidgets": {},
     "nuid": "9d32c3e0-2623-4ed6-b263-9d38a316365e",
     "showTitle": false,
     "tableResultSettingsMap": {},
     "title": ""
    }
   },
   "outputs": [],
   "source": [
    "%sql\n",
    "CREATE OR REPLACE TABLE dim_order_item (\n",
    "    orderItemKey BIGINT GENERATED ALWAYS AS IDENTITY,   -- surrogate key tự động tăng\n",
    "    order_id STRING NOT NULL,                           -- Mã đơn hàng\n",
    "    order_item_id INT NOT NULL,                         -- STT mặt hàng trong đơn (dùng INT)\n",
    "    product_id STRING,                                  -- Mã sản phẩm\n",
    "    seller_id STRING,                                   -- Người bán\n",
    "    shipping_limit_date TIMESTAMP,                      -- Hạn giao hàng\n",
    "    price DOUBLE,                                       -- Giá sản phẩm\n",
    "    freight_value DOUBLE                                -- Phí vận chuyển\n",
    ")\n",
    "USING DELTA;\n",
    "\n",
    "INSERT INTO dim_order_item (\n",
    "    order_id,\n",
    "    order_item_id,\n",
    "    product_id,\n",
    "    seller_id,\n",
    "    shipping_limit_date,\n",
    "    price,\n",
    "    freight_value\n",
    ")\n",
    "SELECT DISTINCT\n",
    "    order_id,\n",
    "    order_item_id,\n",
    "    product_id,\n",
    "    seller_id,\n",
    "    shipping_limit_date,\n",
    "    price,\n",
    "    freight_value\n",
    "FROM\n",
    "    olistdb.silver_order_items;\n"
   ]
  },
  {
   "cell_type": "code",
   "execution_count": 0,
   "metadata": {
    "application/vnd.databricks.v1+cell": {
     "cellMetadata": {
      "byteLimit": 2048000,
      "implicitDf": true,
      "rowLimit": 10000
     },
     "inputWidgets": {},
     "nuid": "f14b2819-22cc-4edd-bae2-f389aac6f059",
     "showTitle": false,
     "tableResultSettingsMap": {},
     "title": ""
    }
   },
   "outputs": [],
   "source": [
    "%sql\n",
    "select *\n",
    "from\n",
    "  dim_order_item"
   ]
  },
  {
   "cell_type": "markdown",
   "metadata": {
    "application/vnd.databricks.v1+cell": {
     "cellMetadata": {
      "byteLimit": 2048000,
      "rowLimit": 10000
     },
     "inputWidgets": {},
     "nuid": "33bac2c7-9d13-4f6b-a809-40e51492eb77",
     "showTitle": false,
     "tableResultSettingsMap": {},
     "title": ""
    }
   },
   "source": [
    "##### 7. DimOrderPayment"
   ]
  },
  {
   "cell_type": "code",
   "execution_count": 0,
   "metadata": {
    "application/vnd.databricks.v1+cell": {
     "cellMetadata": {
      "byteLimit": 2048000,
      "implicitDf": true,
      "rowLimit": 10000
     },
     "inputWidgets": {},
     "nuid": "fb0716ee-3cec-407b-add8-cba5b202588d",
     "showTitle": false,
     "tableResultSettingsMap": {},
     "title": ""
    }
   },
   "outputs": [],
   "source": [
    "%sql\n",
    "CREATE OR REPLACE TABLE dim_order_payment (\n",
    "    orderPaymentKey BIGINT GENERATED ALWAYS AS IDENTITY,   -- surrogate key tự động tăng\n",
    "    order_id STRING NOT NULL,                              -- Mã đơn hàng\n",
    "    payment_sequential INT NOT NULL,                       -- STT lần thanh toán (dùng INT thay cho TINYINT)\n",
    "    payment_type STRING,                                   -- Loại thanh toán\n",
    "    payment_installments INT,                              -- Số kỳ trả góp\n",
    "    payment_value DOUBLE NOT NULL                          -- Giá trị thanh toán\n",
    ")\n",
    "USING DELTA;\n",
    "\n",
    "INSERT INTO dim_order_payment (\n",
    "    order_id,\n",
    "    payment_sequential,\n",
    "    payment_type,\n",
    "    payment_installments,\n",
    "    payment_value\n",
    ")\n",
    "SELECT DISTINCT\n",
    "    order_id,\n",
    "    payment_sequential,\n",
    "    payment_type,\n",
    "    payment_installments,\n",
    "    payment_value\n",
    "FROM\n",
    "    olistdb.silver_order_payments;\n"
   ]
  },
  {
   "cell_type": "code",
   "execution_count": 0,
   "metadata": {
    "application/vnd.databricks.v1+cell": {
     "cellMetadata": {
      "byteLimit": 2048000,
      "implicitDf": true,
      "rowLimit": 10000
     },
     "inputWidgets": {},
     "nuid": "174e8271-8687-4c9d-8ad4-b7c564247004",
     "showTitle": false,
     "tableResultSettingsMap": {},
     "title": ""
    }
   },
   "outputs": [],
   "source": [
    "%sql\n",
    "select *\n",
    "from\n",
    "  dim_order_payment"
   ]
  },
  {
   "cell_type": "markdown",
   "metadata": {
    "application/vnd.databricks.v1+cell": {
     "cellMetadata": {
      "byteLimit": 2048000,
      "rowLimit": 10000
     },
     "inputWidgets": {},
     "nuid": "b17f5a7c-6f7c-40aa-85da-2200395056c5",
     "showTitle": false,
     "tableResultSettingsMap": {},
     "title": ""
    }
   },
   "source": [
    "##### 8. DimOrderReview"
   ]
  },
  {
   "cell_type": "code",
   "execution_count": 0,
   "metadata": {
    "application/vnd.databricks.v1+cell": {
     "cellMetadata": {
      "byteLimit": 2048000,
      "implicitDf": true,
      "rowLimit": 10000
     },
     "inputWidgets": {},
     "nuid": "394ed753-a074-4c44-bdff-df38c09235ff",
     "showTitle": false,
     "tableResultSettingsMap": {},
     "title": ""
    }
   },
   "outputs": [],
   "source": [
    "%sql\n",
    "CREATE OR REPLACE TABLE dim_order_review (\n",
    "    reviewKey BIGINT GENERATED ALWAYS AS IDENTITY,      -- surrogate key tự động tăng\n",
    "    review_id STRING NOT NULL,                          -- Mã đánh giá\n",
    "    order_id STRING NOT NULL,                           -- Mã đơn hàng\n",
    "    review_score INT,                                   -- Điểm đánh giá (dùng INT thay cho TINYINT)\n",
    "    review_comment_title STRING,                        -- Tiêu đề đánh giá\n",
    "    review_comment_message STRING                       -- Nội dung đánh giá\n",
    ")\n",
    "USING DELTA;\n",
    "\n",
    "INSERT INTO dim_order_review (\n",
    "    review_id,\n",
    "    order_id,\n",
    "    review_score,\n",
    "    review_comment_title,\n",
    "    review_comment_message\n",
    ")\n",
    "SELECT DISTINCT\n",
    "    review_id,\n",
    "    order_id,\n",
    "    review_score,\n",
    "    review_comment_title,\n",
    "    review_comment_message\n",
    "FROM\n",
    "    olistdb.silver_order_reviews;\n"
   ]
  },
  {
   "cell_type": "code",
   "execution_count": 0,
   "metadata": {
    "application/vnd.databricks.v1+cell": {
     "cellMetadata": {
      "byteLimit": 2048000,
      "implicitDf": true,
      "rowLimit": 10000
     },
     "inputWidgets": {},
     "nuid": "d79c6727-4595-45c3-b165-a27696ae13ed",
     "showTitle": false,
     "tableResultSettingsMap": {},
     "title": ""
    }
   },
   "outputs": [],
   "source": [
    "%sql\n",
    "select *\n",
    "from\n",
    "  dim_order_review"
   ]
  },
  {
   "cell_type": "markdown",
   "metadata": {
    "application/vnd.databricks.v1+cell": {
     "cellMetadata": {
      "byteLimit": 2048000,
      "rowLimit": 10000
     },
     "inputWidgets": {},
     "nuid": "d6dd2e4b-9e4c-40f0-ade0-0e10abb9e5a8",
     "showTitle": false,
     "tableResultSettingsMap": {},
     "title": ""
    }
   },
   "source": [
    "##### 9. DimDate"
   ]
  },
  {
   "cell_type": "code",
   "execution_count": 0,
   "metadata": {
    "application/vnd.databricks.v1+cell": {
     "cellMetadata": {
      "byteLimit": 2048000,
      "implicitDf": true,
      "rowLimit": 10000
     },
     "inputWidgets": {},
     "nuid": "16e75569-4522-43b0-801c-0c710e473e45",
     "showTitle": false,
     "tableResultSettingsMap": {},
     "title": ""
    }
   },
   "outputs": [],
   "source": [
    "%sql\n",
    "CREATE OR REPLACE TABLE dim_date (\n",
    "    date_key INT NOT NULL,\n",
    "    full_date DATE,\n",
    "    day_of_week INT,\n",
    "    day_num_in_month INT,\n",
    "    day_num_overall INT,\n",
    "    day_name STRING,\n",
    "    day_abbrev STRING,\n",
    "    weekday_flag STRING,\n",
    "    week_num_in_year INT,\n",
    "    week_num_overall INT,\n",
    "    week_begin_date DATE,\n",
    "    week_begin_date_key INT,\n",
    "    month INT,\n",
    "    month_num_overall INT,\n",
    "    month_name STRING,\n",
    "    month_abbrev STRING,\n",
    "    quarter INT,\n",
    "    year INT,\n",
    "    yearmo INT,\n",
    "    fiscal_month INT,\n",
    "    fiscal_quarter INT,\n",
    "    fiscal_year INT,\n",
    "    last_day_in_month_flag STRING,\n",
    "    same_day_year_ago_date DATE\n",
    ")\n",
    "USING DELTA;\n",
    "\n",
    "INSERT INTO dim_date\n",
    "SELECT\n",
    "    date_key,\n",
    "    full_date,\n",
    "    day_of_week,\n",
    "    day_num_in_month,\n",
    "    day_num_overall,\n",
    "    day_name,\n",
    "    day_abbrev,\n",
    "    weekday_flag,\n",
    "    week_num_in_year,\n",
    "    week_num_overall,\n",
    "    week_begin_date,\n",
    "    week_begin_date_key,\n",
    "    month,\n",
    "    month_num_overall,\n",
    "    month_name,\n",
    "    month_abbrev,\n",
    "    quarter,\n",
    "    year,\n",
    "    yearmo,\n",
    "    fiscal_month,\n",
    "    fiscal_quarter,\n",
    "    fiscal_year,\n",
    "    last_day_in_month_flag,\n",
    "    same_day_year_ago_date\n",
    "FROM olistdb.silver_date\n"
   ]
  },
  {
   "cell_type": "code",
   "execution_count": 0,
   "metadata": {
    "application/vnd.databricks.v1+cell": {
     "cellMetadata": {
      "byteLimit": 2048000,
      "implicitDf": true,
      "rowLimit": 10000
     },
     "inputWidgets": {},
     "nuid": "c0376115-efd5-4043-a11b-e52addd197c6",
     "showTitle": false,
     "tableResultSettingsMap": {},
     "title": ""
    }
   },
   "outputs": [],
   "source": [
    "%sql\n",
    "select * from dim_date"
   ]
  },
  {
   "cell_type": "markdown",
   "metadata": {
    "application/vnd.databricks.v1+cell": {
     "cellMetadata": {
      "byteLimit": 2048000,
      "rowLimit": 10000
     },
     "inputWidgets": {},
     "nuid": "c58b3413-0a3f-442c-ab65-935869fd7505",
     "showTitle": false,
     "tableResultSettingsMap": {},
     "title": ""
    }
   },
   "source": [
    "##### Staging FactSales"
   ]
  },
  {
   "cell_type": "code",
   "execution_count": 0,
   "metadata": {
    "application/vnd.databricks.v1+cell": {
     "cellMetadata": {
      "byteLimit": 2048000,
      "implicitDf": true,
      "rowLimit": 10000
     },
     "inputWidgets": {},
     "nuid": "ea6da4ce-9ad8-4c1a-b828-8161f62551b9",
     "showTitle": false,
     "tableResultSettingsMap": {},
     "title": ""
    }
   },
   "outputs": [],
   "source": [
    "%sql\n",
    "USE CATALOG hive_metastore;\n",
    "use olistdb_gold;"
   ]
  },
  {
   "cell_type": "code",
   "execution_count": 0,
   "metadata": {
    "application/vnd.databricks.v1+cell": {
     "cellMetadata": {
      "byteLimit": 2048000,
      "implicitDf": true,
      "rowLimit": 10000
     },
     "inputWidgets": {},
     "nuid": "1bf45cf4-b07f-488d-8c37-f18da1f5ed89",
     "showTitle": false,
     "tableResultSettingsMap": {},
     "title": ""
    }
   },
   "outputs": [],
   "source": [
    "%sql\n",
    "CREATE TABLE IF NOT EXISTS olistdb.stgFactSales\n",
    "USING DELTA\n",
    "AS\n",
    "SELECT \n",
    "    oi.order_id,\n",
    "    o.customer_id,\n",
    "    oi.product_id,\n",
    "    oi.seller_id,\n",
    "    o.order_purchase_timestamp AS order_date,\n",
    "    op.payment_sequential,\n",
    "    oi.order_item_id,\n",
    "    oi.price,\n",
    "    oi.freight_value\n",
    "FROM olistdb.silver_order_items oi\n",
    "JOIN olistdb.silver_orders o ON oi.order_id = o.order_id\n",
    "JOIN olistdb.silver_order_payments op ON o.order_id = op.order_id;\n"
   ]
  },
  {
   "cell_type": "code",
   "execution_count": 0,
   "metadata": {
    "application/vnd.databricks.v1+cell": {
     "cellMetadata": {
      "byteLimit": 2048000,
      "implicitDf": true,
      "rowLimit": 10000
     },
     "inputWidgets": {},
     "nuid": "d8ba8679-a72a-4e4b-bca3-bbe3d21c06b9",
     "showTitle": false,
     "tableResultSettingsMap": {},
     "title": ""
    }
   },
   "outputs": [],
   "source": [
    "%sql\n",
    "select count(*) from olistdb.stgFactSales"
   ]
  },
  {
   "cell_type": "markdown",
   "metadata": {
    "application/vnd.databricks.v1+cell": {
     "cellMetadata": {
      "byteLimit": 2048000,
      "rowLimit": 10000
     },
     "inputWidgets": {},
     "nuid": "a87ce396-e3fd-4fa5-9c9f-aa5fda1b2858",
     "showTitle": false,
     "tableResultSettingsMap": {},
     "title": ""
    }
   },
   "source": [
    "##### Staging FactOrders"
   ]
  },
  {
   "cell_type": "code",
   "execution_count": 0,
   "metadata": {
    "application/vnd.databricks.v1+cell": {
     "cellMetadata": {
      "byteLimit": 2048000,
      "implicitDf": true,
      "rowLimit": 10000
     },
     "inputWidgets": {},
     "nuid": "2739c173-25fc-4aea-b553-db369b7d6754",
     "showTitle": false,
     "tableResultSettingsMap": {},
     "title": ""
    }
   },
   "outputs": [],
   "source": [
    "%sql\n",
    "CREATE TABLE IF NOT EXISTS olistdb.stgFactOrders\n",
    "USING DELTA\n",
    "AS\n",
    "SELECT\n",
    "    so.order_id,\n",
    "    so.customer_id,\n",
    "    so.order_purchase_timestamp,\n",
    "    so.order_approved_at,\n",
    "    so.order_delivered_customer_date,\n",
    "    so.order_estimated_delivery_date,\n",
    "    DATEDIFF(so.order_delivered_customer_date, so.order_purchase_timestamp) AS delivery_time,\n",
    "    DATEDIFF(so.order_approved_at, so.order_purchase_timestamp) AS order_processing_time,\n",
    "    DATEDIFF(so.order_delivered_customer_date, so.order_estimated_delivery_date) AS delivery_delay,\n",
    "    COUNT(soi.order_item_id) AS order_item_count\n",
    "FROM olistdb.silver_orders so\n",
    "LEFT JOIN olistdb.silver_order_items soi ON so.order_id = soi.order_id\n",
    "GROUP BY\n",
    "    so.order_id,\n",
    "    so.customer_id,\n",
    "    so.order_purchase_timestamp,\n",
    "    so.order_approved_at,\n",
    "    so.order_delivered_customer_date,\n",
    "    so.order_estimated_delivery_date;\n"
   ]
  },
  {
   "cell_type": "code",
   "execution_count": 0,
   "metadata": {
    "application/vnd.databricks.v1+cell": {
     "cellMetadata": {
      "byteLimit": 2048000,
      "implicitDf": true,
      "rowLimit": 10000
     },
     "inputWidgets": {},
     "nuid": "42fce92f-2313-450b-9aa5-0a4a33c39b99",
     "showTitle": false,
     "tableResultSettingsMap": {},
     "title": ""
    }
   },
   "outputs": [],
   "source": [
    "%sql\n",
    "select count(*) from olistdb.stgFactOrders"
   ]
  },
  {
   "cell_type": "markdown",
   "metadata": {
    "application/vnd.databricks.v1+cell": {
     "cellMetadata": {
      "byteLimit": 2048000,
      "rowLimit": 10000
     },
     "inputWidgets": {},
     "nuid": "15cd216b-59e3-48a8-8533-6d0dbabd89d9",
     "showTitle": false,
     "tableResultSettingsMap": {},
     "title": ""
    }
   },
   "source": [
    "##### Staging FactReviews"
   ]
  },
  {
   "cell_type": "code",
   "execution_count": 0,
   "metadata": {
    "application/vnd.databricks.v1+cell": {
     "cellMetadata": {
      "byteLimit": 2048000,
      "implicitDf": true,
      "rowLimit": 10000
     },
     "inputWidgets": {},
     "nuid": "53e909d0-9308-4b5f-b48c-a3d414107a5d",
     "showTitle": false,
     "tableResultSettingsMap": {},
     "title": ""
    }
   },
   "outputs": [],
   "source": [
    "%sql\n",
    "CREATE TABLE IF NOT EXISTS olistdb.stgFactReviews\n",
    "USING DELTA\n",
    "AS\n",
    "SELECT\n",
    "    sr.review_id,\n",
    "    sr.order_id,\n",
    "    so.customer_id,\n",
    "    soi.seller_id,\n",
    "    soi.product_id,\n",
    "    CAST(sr.review_creation_date AS DATE) AS review_date,\n",
    "    sr.review_score,\n",
    "    CASE WHEN sr.review_score <= 2 THEN 1 ELSE 0 END AS is_negative_review,\n",
    "    LENGTH(COALESCE(sr.review_comment_message, '')) AS review_comment_length,\n",
    "    CASE \n",
    "        WHEN sr.review_comment_message IS NOT NULL AND LENGTH(TRIM(sr.review_comment_message)) > 0\n",
    "        THEN 1 ELSE 0\n",
    "    END AS has_comment\n",
    "FROM olistdb.silver_order_reviews sr\n",
    "JOIN olistdb.silver_orders so ON sr.order_id = so.order_id\n",
    "JOIN olistdb.silver_order_items soi ON sr.order_id = soi.order_id;\n"
   ]
  },
  {
   "cell_type": "code",
   "execution_count": 0,
   "metadata": {
    "application/vnd.databricks.v1+cell": {
     "cellMetadata": {
      "byteLimit": 2048000,
      "implicitDf": true,
      "rowLimit": 10000
     },
     "inputWidgets": {},
     "nuid": "8afbfbdf-3c49-40b9-a0da-67e9aef69042",
     "showTitle": false,
     "tableResultSettingsMap": {},
     "title": ""
    }
   },
   "outputs": [],
   "source": [
    "%sql\n",
    "select count(*) from olistdb.stgFactReviews"
   ]
  },
  {
   "cell_type": "markdown",
   "metadata": {
    "application/vnd.databricks.v1+cell": {
     "cellMetadata": {
      "byteLimit": 2048000,
      "rowLimit": 10000
     },
     "inputWidgets": {},
     "nuid": "aff83590-3ced-41f2-bd9d-e1ae9b6f6dae",
     "showTitle": false,
     "tableResultSettingsMap": {},
     "title": ""
    }
   },
   "source": [
    "#### Tạo các Fact"
   ]
  },
  {
   "cell_type": "markdown",
   "metadata": {
    "application/vnd.databricks.v1+cell": {
     "cellMetadata": {
      "byteLimit": 2048000,
      "rowLimit": 10000
     },
     "inputWidgets": {},
     "nuid": "aa480825-3f32-456d-ae25-78cb5d2cd8ab",
     "showTitle": false,
     "tableResultSettingsMap": {},
     "title": ""
    }
   },
   "source": [
    "##### Fact Sales"
   ]
  },
  {
   "cell_type": "code",
   "execution_count": 0,
   "metadata": {
    "application/vnd.databricks.v1+cell": {
     "cellMetadata": {
      "byteLimit": 2048000,
      "implicitDf": true,
      "rowLimit": 10000
     },
     "inputWidgets": {},
     "nuid": "ef99e4f0-c408-4838-b926-9a00f1938fbd",
     "showTitle": false,
     "tableResultSettingsMap": {},
     "title": ""
    }
   },
   "outputs": [],
   "source": [
    "%sql\n",
    "CREATE TABLE IF NOT EXISTS olistdb_gold.FactSales (\n",
    "    salesKey BIGINT GENERATED ALWAYS AS IDENTITY,\n",
    "    orderKey INT,\n",
    "    customerKey INT,\n",
    "    productKey INT,\n",
    "    sellerKey INT,\n",
    "    dateKey INT,\n",
    "    paymentKey INT,\n",
    "    orderItemKey INT,\n",
    "    price DECIMAL(10,2),\n",
    "    totalOrderValue DECIMAL(10,2)\n",
    ")\n",
    "USING DELTA\n",
    "TBLPROPERTIES (\n",
    "    delta.autooptimize.optimizeWrite = true,\n",
    "    delta.autooptimize.autoCompact = true\n",
    ");\n"
   ]
  },
  {
   "cell_type": "code",
   "execution_count": 0,
   "metadata": {
    "application/vnd.databricks.v1+cell": {
     "cellMetadata": {
      "byteLimit": 2048000,
      "implicitDf": true,
      "rowLimit": 10000
     },
     "inputWidgets": {},
     "nuid": "abc85749-48ec-4bf7-9afd-b4dff61710dc",
     "showTitle": false,
     "tableResultSettingsMap": {},
     "title": ""
    }
   },
   "outputs": [],
   "source": [
    "%sql\n",
    "INSERT INTO olistdb_gold.FactSales (\n",
    "    orderKey,\n",
    "    customerKey,\n",
    "    productKey,\n",
    "    sellerKey,\n",
    "    dateKey,\n",
    "    paymentKey,\n",
    "    orderItemKey,\n",
    "    price,\n",
    "    totalOrderValue\n",
    ")\n",
    "SELECT\n",
    "    do.orderKey,\n",
    "    dc.customerKey,\n",
    "    dp.productKey,\n",
    "    ds.sellerKey,\n",
    "    dd.date_key,\n",
    "    dop.orderPaymentKey,\n",
    "    doi.orderItemKey,\n",
    "    s.price,\n",
    "    s.price + s.freight_value AS totalOrderValue\n",
    "FROM olistdb.stgFactSales s\n",
    "JOIN olistdb_gold.dim_order do ON s.order_id = do.order_id\n",
    "JOIN olistdb_gold.dim_customer dc ON s.customer_id = dc.customer_id\n",
    "JOIN olistdb_gold.dim_product dp ON s.product_id = dp.product_id\n",
    "JOIN olistdb_gold.dim_seller ds ON s.seller_id = ds.seller_id\n",
    "JOIN olistdb_gold.dim_date dd ON CAST(s.order_date AS DATE) = dd.full_date\n",
    "JOIN olistdb_gold.dim_order_payment dop ON s.order_id = dop.order_id AND s.payment_sequential = dop.payment_sequential\n",
    "JOIN olistdb_gold.dim_order_item doi ON s.order_id = doi.order_id AND s.order_item_id = doi.order_item_id;\n"
   ]
  },
  {
   "cell_type": "markdown",
   "metadata": {
    "application/vnd.databricks.v1+cell": {
     "cellMetadata": {
      "byteLimit": 2048000,
      "rowLimit": 10000
     },
     "inputWidgets": {},
     "nuid": "780c851a-f257-4092-aa34-9f97e55a484b",
     "showTitle": false,
     "tableResultSettingsMap": {},
     "title": ""
    }
   },
   "source": [
    "##### FactOrder"
   ]
  },
  {
   "cell_type": "code",
   "execution_count": 0,
   "metadata": {
    "application/vnd.databricks.v1+cell": {
     "cellMetadata": {
      "byteLimit": 2048000,
      "implicitDf": true,
      "rowLimit": 10000
     },
     "inputWidgets": {},
     "nuid": "1310c383-7e27-4578-8557-d851adb842f6",
     "showTitle": false,
     "tableResultSettingsMap": {},
     "title": ""
    }
   },
   "outputs": [],
   "source": [
    "%sql\n",
    "CREATE TABLE IF NOT EXISTS olistdb_gold.FactOrders (\n",
    "    factOrderKey BIGINT GENERATED ALWAYS AS IDENTITY,   -- surrogate key cho fact (tuỳ chọn, dùng nếu muốn)\n",
    "    customerKey INT,\n",
    "    orderKey INT,\n",
    "    orderDateKey INT,\n",
    "    approvedDateKey INT,\n",
    "    deliveryDateKey INT,\n",
    "    estimatedDeliveryDateKey INT,\n",
    "    orderPaymentKey INT,\n",
    "    delivery_time INT,\n",
    "    order_processing_time INT,\n",
    "    delivery_delay INT,\n",
    "    order_item_count INT\n",
    ")\n",
    "USING DELTA\n",
    "TBLPROPERTIES (\n",
    "    delta.autooptimize.optimizeWrite = true,\n",
    "    delta.autooptimize.autoCompact = true\n",
    ");\n"
   ]
  },
  {
   "cell_type": "code",
   "execution_count": 0,
   "metadata": {
    "application/vnd.databricks.v1+cell": {
     "cellMetadata": {
      "byteLimit": 2048000,
      "implicitDf": true,
      "rowLimit": 10000
     },
     "inputWidgets": {},
     "nuid": "7c23d159-bf00-46b1-be3e-5b594864e89d",
     "showTitle": false,
     "tableResultSettingsMap": {},
     "title": ""
    }
   },
   "outputs": [],
   "source": [
    "%sql\n",
    "WITH CleanedData AS (\n",
    "    SELECT\n",
    "        sfo.order_id,\n",
    "        sfo.customer_id,\n",
    "        sfo.order_purchase_timestamp,\n",
    "        sfo.order_approved_at,\n",
    "        sfo.order_delivered_customer_date,\n",
    "        sfo.order_estimated_delivery_date,\n",
    "        sfo.delivery_time,\n",
    "        sfo.order_processing_time,\n",
    "        sfo.delivery_delay,\n",
    "        sfo.order_item_count,\n",
    "        CAST(sfo.order_purchase_timestamp AS DATE) AS order_date,\n",
    "        CAST(sfo.order_approved_at AS DATE) AS approved_date,\n",
    "        CAST(sfo.order_delivered_customer_date AS DATE) AS delivered_date,\n",
    "        CAST(sfo.order_estimated_delivery_date AS DATE) AS estimated_date,\n",
    "        dc.customerKey,\n",
    "        dof.orderKey,\n",
    "        dop.orderPaymentKey\n",
    "    FROM olistdb.stgFactOrders sfo\n",
    "    JOIN olistdb_gold.dim_order dof ON sfo.order_id = dof.order_id \n",
    "    JOIN olistdb_gold.dim_customer dc ON sfo.customer_id = dc.customer_id \n",
    "    JOIN olistdb_gold.dim_order_payment dop ON sfo.order_id = dop.order_id\n",
    ")\n",
    "\n",
    "INSERT INTO olistdb_gold.FactOrders (\n",
    "    customerKey,\n",
    "    orderKey,\n",
    "    orderDateKey,\n",
    "    approvedDateKey,\n",
    "    deliveryDateKey,\n",
    "    estimatedDeliveryDateKey,\n",
    "    orderPaymentKey,\n",
    "    delivery_time,\n",
    "    order_processing_time,\n",
    "    delivery_delay,\n",
    "    order_item_count\n",
    ")\n",
    "SELECT\n",
    "    c.customerKey,\n",
    "    c.orderKey,\n",
    "    dd_order.date_key,\n",
    "    dd_approved.date_key,\n",
    "    dd_delivered.date_key,\n",
    "    dd_estimated.date_key,\n",
    "    c.orderPaymentKey,\n",
    "    c.delivery_time,\n",
    "    c.order_processing_time,\n",
    "    c.delivery_delay,\n",
    "    c.order_item_count\n",
    "FROM CleanedData c\n",
    "JOIN olistdb_gold.dim_date dd_order ON c.order_date = dd_order.full_date\n",
    "JOIN olistdb_gold.dim_date dd_approved ON c.approved_date = dd_approved.full_date\n",
    "JOIN olistdb_gold.dim_date dd_delivered ON c.delivered_date = dd_delivered.full_date\n",
    "JOIN olistdb_gold.dim_date dd_estimated ON c.estimated_date = dd_estimated.full_date;\n",
    "\n",
    "\n",
    "\n"
   ]
  },
  {
   "cell_type": "markdown",
   "metadata": {
    "application/vnd.databricks.v1+cell": {
     "cellMetadata": {
      "byteLimit": 2048000,
      "rowLimit": 10000
     },
     "inputWidgets": {},
     "nuid": "6c5a7d93-6db1-4626-a384-160d46d16c15",
     "showTitle": false,
     "tableResultSettingsMap": {},
     "title": ""
    }
   },
   "source": [
    "##### FactReviews"
   ]
  },
  {
   "cell_type": "code",
   "execution_count": 0,
   "metadata": {
    "application/vnd.databricks.v1+cell": {
     "cellMetadata": {
      "byteLimit": 2048000,
      "implicitDf": true,
      "rowLimit": 10000
     },
     "inputWidgets": {},
     "nuid": "b6855f15-677e-4b4d-9e63-17cf2057eae3",
     "showTitle": false,
     "tableResultSettingsMap": {},
     "title": ""
    }
   },
   "outputs": [],
   "source": [
    "%sql\n",
    "CREATE TABLE IF NOT EXISTS olistdb_gold.FactReview (\n",
    "    reviewKey INT,\n",
    "    customerKey INT,\n",
    "    sellerKey INT,\n",
    "    productKey INT,\n",
    "    dateKey INT,\n",
    "    orderKey INT,\n",
    "    review_score INT,\n",
    "    is_negative_review INT,\n",
    "    review_comment_length INT,\n",
    "    has_comment INT\n",
    ")\n",
    "USING DELTA\n",
    "TBLPROPERTIES (\n",
    "    delta.autooptimize.optimizeWrite = true,\n",
    "    delta.autooptimize.autoCompact = true\n",
    ");\n"
   ]
  },
  {
   "cell_type": "code",
   "execution_count": 0,
   "metadata": {
    "application/vnd.databricks.v1+cell": {
     "cellMetadata": {
      "byteLimit": 2048000,
      "implicitDf": true,
      "rowLimit": 10000
     },
     "inputWidgets": {},
     "nuid": "132b81e0-f014-43fd-8ea9-6659f9c5a5ca",
     "showTitle": false,
     "tableResultSettingsMap": {},
     "title": ""
    }
   },
   "outputs": [],
   "source": [
    "%sql\n",
    "INSERT INTO olistdb_gold.FactReview (\n",
    "    reviewKey,\n",
    "    customerKey,\n",
    "    sellerKey,\n",
    "    productKey,\n",
    "    dateKey,\n",
    "    orderKey,\n",
    "    review_score,\n",
    "    is_negative_review,\n",
    "    review_comment_length,\n",
    "    has_comment\n",
    ")\n",
    "SELECT\n",
    "    dor.reviewKey,\n",
    "    dc.customerKey,\n",
    "    ds.sellerKey,\n",
    "    dp.productKey,\n",
    "    dd.date_key,\n",
    "    dof.orderKey,\n",
    "    sfr.review_score,\n",
    "    sfr.is_negative_review,\n",
    "    sfr.review_comment_length,\n",
    "    sfr.has_comment\n",
    "FROM olistdb.stgFactReviews sfr\n",
    "JOIN olistdb_gold.dim_order_review dor ON sfr.review_id = dor.review_id\n",
    "JOIN olistdb_gold.dim_order dof ON sfr.order_id = dof.order_id \n",
    "JOIN olistdb_gold.dim_customer dc ON dof.customer_id = dc.customer_id \n",
    "JOIN olistdb_gold.dim_seller ds ON sfr.seller_id = ds.seller_id \n",
    "JOIN olistdb_gold.dim_product dp ON sfr.product_id = dp.product_id\n",
    "JOIN olistdb_gold.dim_date dd ON sfr.review_date = dd.full_date;\n"
   ]
  },
  {
   "cell_type": "markdown",
   "metadata": {
    "application/vnd.databricks.v1+cell": {
     "cellMetadata": {},
     "inputWidgets": {},
     "nuid": "f0dc0626-449e-437f-999c-ddbac09d3fc2",
     "showTitle": false,
     "tableResultSettingsMap": {},
     "title": ""
    }
   },
   "source": [
    "#### Thực hiện lưu dữ liệu xuống lớp Gold"
   ]
  },
  {
   "cell_type": "code",
   "execution_count": 0,
   "metadata": {
    "application/vnd.databricks.v1+cell": {
     "cellMetadata": {
      "byteLimit": 2048000,
      "rowLimit": 10000
     },
     "inputWidgets": {},
     "nuid": "ba4a7238-172f-4776-bdc7-07f8cd3be3fa",
     "showTitle": false,
     "tableResultSettingsMap": {},
     "title": ""
    }
   },
   "outputs": [],
   "source": [
    "dim_customer_df = spark.table(\"olistdb_gold.dim_customer\")\n",
    "\n",
    "dim_customer_df.write.format(\"delta\") \\\n",
    "    .mode(\"overwrite\") \\\n",
    "    .option(\"overwriteSchema\", \"true\") \\\n",
    "    .save(\"/mnt/lakehouse/gold/dim_customer\")\n",
    "\n",
    "dim_product_df = spark.table(\"olistdb_gold.dim_product\")\n",
    "\n",
    "dim_product_df.write.format(\"delta\") \\\n",
    "    .mode(\"overwrite\") \\\n",
    "    .option(\"overwriteSchema\", \"true\") \\\n",
    "    .save(\"/mnt/lakehouse/gold/dim_product\")\n",
    "\n",
    "dim_seller_df = spark.table(\"olistdb_gold.dim_seller\")\n",
    "\n",
    "dim_seller_df.write.format(\"delta\") \\\n",
    "    .mode(\"overwrite\") \\\n",
    "    .option(\"overwriteSchema\", \"true\") \\\n",
    "    .save(\"/mnt/lakehouse/gold/dim_seller\")\n",
    "\n",
    "\n",
    "dim_geolocation_df = spark.table(\"olistdb_gold.dim_geolocation\")\n",
    "\n",
    "dim_geolocation_df.write.format(\"delta\") \\\n",
    "    .mode(\"overwrite\") \\\n",
    "    .option(\"overwriteSchema\", \"true\") \\\n",
    "    .save(\"/mnt/lakehouse/gold/dim_geolocation\")\n",
    "\n",
    "dim_order_df = spark.table(\"olistdb_gold.dim_order\")\n",
    "\n",
    "dim_order_df.write.format(\"delta\") \\\n",
    "    .mode(\"overwrite\") \\\n",
    "    .option(\"overwriteSchema\", \"true\") \\\n",
    "    .save(\"/mnt/lakehouse/gold/dim_order\")\n",
    "\n",
    "dim_order_item_df = spark.table(\"olistdb_gold.dim_order_item\")\n",
    "\n",
    "dim_order_item_df.write.format(\"delta\") \\\n",
    "    .mode(\"overwrite\") \\\n",
    "    .option(\"overwriteSchema\", \"true\") \\\n",
    "    .save(\"/mnt/lakehouse/gold/dim_order_item\")\n",
    "\n",
    "dim_order_payment_df = spark.table(\"olistdb_gold.dim_order_payment\")\n",
    "\n",
    "dim_order_payment_df.write.format(\"delta\") \\\n",
    "    .mode(\"overwrite\") \\\n",
    "    .option(\"overwriteSchema\", \"true\") \\\n",
    "    .save(\"/mnt/lakehouse/gold/dim_order_payment\")\n",
    "\n",
    "dim_order_review_df = spark.table(\"olistdb_gold.dim_order_review\")\n",
    "\n",
    "dim_order_review_df.write.format(\"delta\") \\\n",
    "    .mode(\"overwrite\") \\\n",
    "    .option(\"overwriteSchema\", \"true\") \\\n",
    "    .save(\"/mnt/lakehouse/gold/dim_order_review\")\n",
    "\n",
    "dim_date_df = spark.table(\"olistdb_gold.dim_date\")\n",
    "\n",
    "dim_date_df.write.format(\"delta\") \\\n",
    "    .mode(\"overwrite\") \\\n",
    "    .option(\"overwriteSchema\", \"true\") \\\n",
    "    .save(\"/mnt/lakehouse/gold/dim_date\")"
   ]
  },
  {
   "cell_type": "code",
   "execution_count": 0,
   "metadata": {
    "application/vnd.databricks.v1+cell": {
     "cellMetadata": {
      "byteLimit": 2048000,
      "rowLimit": 10000
     },
     "inputWidgets": {},
     "nuid": "30bb401b-8edd-47cb-b41c-4461eb4c578d",
     "showTitle": false,
     "tableResultSettingsMap": {},
     "title": ""
    }
   },
   "outputs": [],
   "source": [
    "FactSales_df = spark.table(\"olistdb_gold.FactSales\")\n",
    "\n",
    "FactSales_df.write.format(\"delta\") \\\n",
    "    .mode(\"overwrite\") \\\n",
    "    .option(\"overwriteSchema\", \"true\") \\\n",
    "    .save(\"/mnt/lakehouse/gold/FactSales\")"
   ]
  },
  {
   "cell_type": "code",
   "execution_count": 0,
   "metadata": {
    "application/vnd.databricks.v1+cell": {
     "cellMetadata": {
      "byteLimit": 2048000,
      "rowLimit": 10000
     },
     "inputWidgets": {},
     "nuid": "a79bcd0e-5473-4644-9bda-83df9d602301",
     "showTitle": false,
     "tableResultSettingsMap": {},
     "title": ""
    }
   },
   "outputs": [],
   "source": [
    "FactOrders_df = spark.table(\"olistdb_gold.FactOrders\")\n",
    "\n",
    "FactOrders_df.write.format(\"delta\") \\\n",
    "    .mode(\"overwrite\") \\\n",
    "    .option(\"overwriteSchema\", \"true\") \\\n",
    "    .save(\"/mnt/lakehouse/gold/FactOrders\")"
   ]
  },
  {
   "cell_type": "code",
   "execution_count": 0,
   "metadata": {
    "application/vnd.databricks.v1+cell": {
     "cellMetadata": {
      "byteLimit": 2048000,
      "rowLimit": 10000
     },
     "inputWidgets": {},
     "nuid": "b0167dbe-eb85-48e1-8bc6-08ff8ca83815",
     "showTitle": false,
     "tableResultSettingsMap": {},
     "title": ""
    }
   },
   "outputs": [],
   "source": [
    "\n",
    "\n",
    "FactReview_df = spark.table(\"olistdb_gold.FactReview\")\n",
    "\n",
    "FactReview_df.write.format(\"delta\") \\\n",
    "    .mode(\"overwrite\") \\\n",
    "    .option(\"overwriteSchema\", \"true\") \\\n",
    "    .save(\"/mnt/lakehouse/gold/FactReview\")\n"
   ]
  },
  {
   "cell_type": "markdown",
   "metadata": {
    "application/vnd.databricks.v1+cell": {
     "cellMetadata": {},
     "inputWidgets": {},
     "nuid": "d9784c6a-f562-4327-9df4-ac902551d433",
     "showTitle": false,
     "tableResultSettingsMap": {},
     "title": ""
    }
   },
   "source": [
    "#### Thực hiện VACUUM"
   ]
  },
  {
   "cell_type": "code",
   "execution_count": 0,
   "metadata": {
    "application/vnd.databricks.v1+cell": {
     "cellMetadata": {
      "byteLimit": 2048000,
      "implicitDf": true,
      "rowLimit": 10000
     },
     "inputWidgets": {},
     "nuid": "e77a2d2f-95b4-4b26-9d3a-94f546e6aa82",
     "showTitle": false,
     "tableResultSettingsMap": {},
     "title": ""
    }
   },
   "outputs": [],
   "source": [
    "%sql\n",
    "VACUUM delta. `/mnt/lakehouse/gold/FactReview` RETAIN 336 HOURS"
   ]
  },
  {
   "cell_type": "code",
   "execution_count": 0,
   "metadata": {
    "application/vnd.databricks.v1+cell": {
     "cellMetadata": {
      "byteLimit": 2048000,
      "implicitDf": true,
      "rowLimit": 10000
     },
     "inputWidgets": {},
     "nuid": "d447efc9-5ead-4b15-a522-edb7281cc953",
     "showTitle": false,
     "tableResultSettingsMap": {},
     "title": ""
    }
   },
   "outputs": [],
   "source": [
    "%sql\n",
    "VACUUM delta. `/mnt/lakehouse/gold/FactOrders` RETAIN 336 HOURS"
   ]
  },
  {
   "cell_type": "code",
   "execution_count": 0,
   "metadata": {
    "application/vnd.databricks.v1+cell": {
     "cellMetadata": {
      "byteLimit": 2048000,
      "implicitDf": true,
      "rowLimit": 10000
     },
     "inputWidgets": {},
     "nuid": "f61ddf84-e83c-43ce-8fa8-d21621b3bc62",
     "showTitle": false,
     "tableResultSettingsMap": {},
     "title": ""
    }
   },
   "outputs": [],
   "source": [
    "%sql\n",
    "VACUUM delta. `/mnt/lakehouse/gold/FactSales` RETAIN 336 HOURS"
   ]
  },
  {
   "cell_type": "code",
   "execution_count": 0,
   "metadata": {
    "application/vnd.databricks.v1+cell": {
     "cellMetadata": {
      "byteLimit": 2048000,
      "implicitDf": true,
      "rowLimit": 10000
     },
     "inputWidgets": {},
     "nuid": "d0d14e2f-5d92-42dc-8c7f-d56740a6a66f",
     "showTitle": false,
     "tableResultSettingsMap": {},
     "title": ""
    }
   },
   "outputs": [],
   "source": [
    "%sql\n",
    "DESCRIBE HISTORY delta. `/mnt/lakehouse/gold/FactSales`"
   ]
  },
  {
   "cell_type": "code",
   "execution_count": 0,
   "metadata": {
    "application/vnd.databricks.v1+cell": {
     "cellMetadata": {
      "byteLimit": 2048000,
      "implicitDf": true,
      "rowLimit": 10000
     },
     "inputWidgets": {},
     "nuid": "eafb617c-baaa-48c0-9530-9924ff7bcdb8",
     "showTitle": false,
     "tableResultSettingsMap": {},
     "title": ""
    }
   },
   "outputs": [],
   "source": [
    "%sql\n",
    "DESCRIBE HISTORY delta. `/mnt/lakehouse/gold/FactOrders`"
   ]
  },
  {
   "cell_type": "code",
   "execution_count": 0,
   "metadata": {
    "application/vnd.databricks.v1+cell": {
     "cellMetadata": {
      "byteLimit": 2048000,
      "implicitDf": true,
      "rowLimit": 10000
     },
     "inputWidgets": {},
     "nuid": "8e1a0afd-ebf2-4582-bc93-752214bb5303",
     "showTitle": false,
     "tableResultSettingsMap": {},
     "title": ""
    }
   },
   "outputs": [],
   "source": [
    "%sql\n",
    "\n",
    "DESCRIBE HISTORY delta. `/mnt/lakehouse/gold/FactReview`"
   ]
  },
  {
   "cell_type": "markdown",
   "metadata": {
    "application/vnd.databricks.v1+cell": {
     "cellMetadata": {
      "byteLimit": 2048000,
      "rowLimit": 10000
     },
     "inputWidgets": {},
     "nuid": "053be435-5931-433f-b894-95b55f9a13de",
     "showTitle": false,
     "tableResultSettingsMap": {},
     "title": ""
    }
   },
   "source": [
    "##### Lưu thành các file csv"
   ]
  },
  {
   "cell_type": "code",
   "execution_count": 0,
   "metadata": {
    "application/vnd.databricks.v1+cell": {
     "cellMetadata": {
      "byteLimit": 2048000,
      "rowLimit": 10000
     },
     "inputWidgets": {},
     "nuid": "384379ca-28df-49a6-9fd9-9cd2bd2a3b55",
     "showTitle": false,
     "tableResultSettingsMap": {},
     "title": ""
    }
   },
   "outputs": [],
   "source": [
    "table_names = [\n",
    "    \"olistdb_gold.FactSales\",\n",
    "    \"olistdb_gold.FactOrders\",\n",
    "    \"olistdb_gold.FactReview\",\n",
    "    \"olistdb_gold.dim_date\",\n",
    "    \"olistdb_gold.dim_customer\",\n",
    "    \"olistdb_gold.dim_geolocation\",\n",
    "    \"olistdb_gold.dim_order\",\n",
    "    \"olistdb_gold.dim_order_item\",\n",
    "    \"olistdb_gold.dim_order_review\",\n",
    "    \"olistdb_gold.dim_order_payment\",\n",
    "    \"olistdb_gold.dim_product\",\n",
    "    \"olistdb_gold.dim_seller\"\n",
    "]\n",
    "\n",
    "for tbl in table_names:\n",
    "    df = spark.table(tbl)\n",
    "    path = f\"/mnt/lakehouse/gold/export/{tbl.split('.')[-1]}\"\n",
    "    df.write.option(\"header\", \"true\").mode(\"overwrite\").csv(path)\n"
   ]
  }
 ],
 "metadata": {
  "application/vnd.databricks.v1+notebook": {
   "computePreferences": null,
   "dashboards": [],
   "environmentMetadata": {
    "base_environment": "",
    "environment_version": "2"
   },
   "inputWidgetPreferences": null,
   "language": "python",
   "notebookMetadata": {
    "mostRecentlyExecutedCommandWithImplicitDF": {
     "commandId": 5346639732612392,
     "dataframes": [
      "_sqldf"
     ]
    },
    "pythonIndentUnit": 4
   },
   "notebookName": "processing (1)",
   "widgets": {}
  },
  "language_info": {
   "name": "python"
  }
 },
 "nbformat": 4,
 "nbformat_minor": 0
}
